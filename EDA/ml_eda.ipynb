{
 "cells": [
  {
   "cell_type": "markdown",
   "source": [
    "# EDA for EIA Data"
   ],
   "metadata": {
    "collapsed": false,
    "pycharm": {
     "name": "#%% md\n"
    }
   }
  },
  {
   "cell_type": "markdown",
   "source": [
    "## Load in libraries"
   ],
   "metadata": {
    "collapsed": false,
    "pycharm": {
     "name": "#%% md\n"
    }
   }
  },
  {
   "cell_type": "code",
   "execution_count": 1,
   "outputs": [
    {
     "ename": "SyntaxError",
     "evalue": "invalid syntax (3174205862.py, line 10)",
     "output_type": "error",
     "traceback": [
      "\u001B[1;36m  Cell \u001B[1;32mIn[1], line 10\u001B[1;36m\u001B[0m\n\u001B[1;33m    from sklearn.tree import\u001B[0m\n\u001B[1;37m                            ^\u001B[0m\n\u001B[1;31mSyntaxError\u001B[0m\u001B[1;31m:\u001B[0m invalid syntax\n"
     ]
    }
   ],
   "source": [
    "import pandas as pd\n",
    "import numpy as np\n",
    "import matplotlib.pyplot as plt\n",
    "import seaborn as sns\n",
    "plt.style.use('fivethirtyeight')\n",
    "color_pal = sns.color_palette()\n",
    "pd.set_option('display.max_rows', None)\n",
    "import warnings\n",
    "warnings.filterwarnings('ignore')\n",
    "from sklearn.metrics import mean_squared_error, mean_absolute_error\n",
    "from sklearn.model_selection import TimeSeriesSplit\n",
    "import pickle"
   ],
   "metadata": {
    "collapsed": false,
    "pycharm": {
     "name": "#%%\n"
    }
   }
  },
  {
   "cell_type": "code",
   "execution_count": null,
   "outputs": [],
   "source": [
    "gen_df = pd.read_parquet('../data/energy_demand.parquet')\n",
    "weather_df = pd.read_parquet('../data/weather.parquet')\n",
    "XLE_df = pd.read_csv('../data/XLE.csv')\n",
    "holidays = pd.read_csv('../data/holiday.csv')"
   ],
   "metadata": {
    "collapsed": false,
    "pycharm": {
     "name": "#%%\n"
    }
   }
  },
  {
   "cell_type": "code",
   "execution_count": null,
   "outputs": [],
   "source": [
    "gen_df['respondent-name'] = gen_df['respondent-name'].replace('Florida', 'Florida Power and Light')"
   ],
   "metadata": {
    "collapsed": false,
    "pycharm": {
     "name": "#%%\n"
    }
   }
  },
  {
   "cell_type": "code",
   "execution_count": null,
   "outputs": [],
   "source": [
    "gen_df['period'] = pd.to_datetime(gen_df.period)"
   ],
   "metadata": {
    "collapsed": false,
    "pycharm": {
     "name": "#%%\n"
    }
   }
  },
  {
   "cell_type": "markdown",
   "source": [
    "# Create a new column to merge weather data on\n",
    "- merge on period and name"
   ],
   "metadata": {
    "collapsed": false,
    "pycharm": {
     "name": "#%% md\n"
    }
   }
  },
  {
   "cell_type": "code",
   "execution_count": null,
   "outputs": [],
   "source": [
    "gen_df['name'] = gen_df['respondent-name']\n",
    "gen_df['name'].value_counts()"
   ],
   "metadata": {
    "collapsed": false,
    "pycharm": {
     "name": "#%%\n"
    }
   }
  },
  {
   "cell_type": "code",
   "execution_count": null,
   "outputs": [],
   "source": [
    "respondents =['Electric Reliability Council of Texas, Inc.' ,\n",
    "              'New York Independent System Operator',\n",
    "              'Florida Power and Light' ,\n",
    "               'California Independent System Operator',]"
   ],
   "metadata": {
    "collapsed": false,
    "pycharm": {
     "name": "#%%\n"
    }
   }
  },
  {
   "cell_type": "code",
   "execution_count": null,
   "outputs": [],
   "source": [
    "gen_df['name'] = gen_df['name'].replace(respondents[3], 'Los Angeles')\n",
    "gen_df['name'] = gen_df['name'].replace(respondents[2], 'Tampa')\n",
    "gen_df['name'] = gen_df['name'].replace(respondents[0], 'Austin')\n",
    "gen_df['name'] = gen_df['name'].replace(respondents[1], 'new york city')"
   ],
   "metadata": {
    "collapsed": false,
    "pycharm": {
     "name": "#%%\n"
    }
   }
  },
  {
   "cell_type": "code",
   "execution_count": null,
   "outputs": [],
   "source": [
    "energy_df = pd.merge(gen_df,weather_df, how='inner', on=['name','period'],suffixes=('','2'))"
   ],
   "metadata": {
    "collapsed": false,
    "pycharm": {
     "name": "#%%\n"
    }
   }
  },
  {
   "cell_type": "code",
   "execution_count": null,
   "outputs": [],
   "source": [
    "XLE_df = XLE_df.set_index('Date')\n",
    "XLE_df.index = pd.to_datetime(XLE_df.index)\n",
    "XLE_df = XLE_df[['Adj Close']].copy()\n",
    "XLE_df['year'] = XLE_df.index.year\n",
    "XLE_df['dayofyear'] = XLE_df.index.dayofyear"
   ],
   "metadata": {
    "collapsed": false,
    "pycharm": {
     "name": "#%%\n"
    }
   }
  },
  {
   "cell_type": "code",
   "execution_count": null,
   "outputs": [],
   "source": [
    "XLE_df.sort_index(inplace=True)"
   ],
   "metadata": {
    "collapsed": false,
    "pycharm": {
     "name": "#%%\n"
    }
   }
  },
  {
   "cell_type": "code",
   "execution_count": null,
   "outputs": [],
   "source": [
    "XLE_df['Adj_Close_30D_lag'] = XLE_df['Adj Close'].shift(freq='28D')\n",
    "XLE_df['Adj_Close_60D_lag'] = XLE_df['Adj Close'].shift(freq='56D')\n",
    "energy_df = pd.merge(energy_df,XLE_df,how='left', on=['year','dayofyear'])"
   ],
   "metadata": {
    "collapsed": false,
    "pycharm": {
     "name": "#%%\n"
    }
   }
  },
  {
   "cell_type": "code",
   "execution_count": null,
   "outputs": [],
   "source": [
    "holidays =holidays.drop('Date',axis=1)\n",
    "energy_df = pd.merge(energy_df,holidays, how='left', on=['year','dayofyear'])"
   ],
   "metadata": {
    "collapsed": false,
    "pycharm": {
     "name": "#%%\n"
    }
   }
  },
  {
   "cell_type": "markdown",
   "source": [
    "# Check for nulls\n",
    "- use pandas bfill to fill in missing data\n",
    "- change period to datetime\n",
    "- filer data\n",
    "- change column names"
   ],
   "metadata": {
    "collapsed": false,
    "pycharm": {
     "name": "#%% md\n"
    }
   }
  },
  {
   "cell_type": "code",
   "execution_count": null,
   "outputs": [],
   "source": [
    "energy_df['value'] = energy_df['value'].bfill()\n",
    "energy_df['solarradiation'] = energy_df['solarradiation'].bfill()\n",
    "energy_df['uvindex'] = energy_df['uvindex'].bfill()\n",
    "energy_df['snow'] = energy_df['snow'].bfill()\n",
    "energy_df['Adj Close'] = energy_df['Adj Close'].bfill()\n",
    "energy_df['Adj_Close_30D_lag'] = energy_df['Adj Close'].bfill()\n",
    "energy_df['Adj_Close_60D_lag'] = energy_df['Adj Close'].bfill()"
   ],
   "metadata": {
    "collapsed": false,
    "pycharm": {
     "name": "#%%\n"
    }
   }
  },
  {
   "cell_type": "code",
   "execution_count": null,
   "outputs": [],
   "source": [
    "energy_df = energy_df.set_index('period')\n",
    "energy_df.index = pd.to_datetime(energy_df.index)"
   ],
   "metadata": {
    "collapsed": false,
    "pycharm": {
     "name": "#%%\n"
    }
   }
  },
  {
   "cell_type": "code",
   "execution_count": null,
   "outputs": [],
   "source": [
    "energy_df[\"Is Weekend\"] = energy_df.index.day_name().isin(['Saturday', 'Sunday'])"
   ],
   "metadata": {
    "collapsed": false,
    "pycharm": {
     "name": "#%%\n"
    }
   }
  },
  {
   "cell_type": "code",
   "execution_count": null,
   "outputs": [],
   "source": [
    "energy_df.columns;"
   ],
   "metadata": {
    "collapsed": false,
    "pycharm": {
     "name": "#%%\n"
    }
   }
  },
  {
   "cell_type": "code",
   "execution_count": null,
   "outputs": [],
   "source": [
    "columns = ['respondent-name','value',\n",
    "        'year', 'month', 'days', 'hour', 'quarter', 'dayofyear',\n",
    "        'temp', 'feelslike', 'dew', 'humidity', 'precip', 'precipprob',\n",
    "       'snow', 'snowdepth', 'windspeed', 'winddir', 'sealevelpressure',\n",
    "       'cloudcover', 'visibility', 'solarradiation', 'uvindex', 'conditions',\n",
    "       'icon','Adj Close', 'Adj_Close_30D_lag', 'Adj_Close_60D_lag', 'Holiday','Is Weekend']"
   ],
   "metadata": {
    "collapsed": false,
    "pycharm": {
     "name": "#%%\n"
    }
   }
  },
  {
   "cell_type": "code",
   "execution_count": null,
   "outputs": [],
   "source": [
    "energy_df = energy_df[columns].copy()"
   ],
   "metadata": {
    "collapsed": false,
    "pycharm": {
     "name": "#%%\n"
    }
   }
  },
  {
   "cell_type": "code",
   "execution_count": null,
   "outputs": [],
   "source": [
    "energy_df.rename(columns={'respondent-name':'respondent',}, inplace=True)\n",
    "energy_df = pd.get_dummies(energy_df, columns=['conditions','icon','Holiday','Is Weekend'], drop_first=True, dtype=float)"
   ],
   "metadata": {
    "collapsed": false,
    "pycharm": {
     "name": "#%%\n"
    }
   }
  },
  {
   "cell_type": "code",
   "execution_count": null,
   "outputs": [],
   "source": [
    "for n,res in enumerate(respondents):\n",
    "    ax = plt.subplot(2,2,n+1)\n",
    "    energy_df.query(f\"respondent == '{res}' \")['value'].plot(kind='hist', bins =500,ax =ax, figsize=(18,8))\n",
    "    ax.set_title(label =f'{res}',fontsize =12)\n",
    "    plt.tight_layout()"
   ],
   "metadata": {
    "collapsed": false,
    "pycharm": {
     "name": "#%%\n"
    }
   }
  },
  {
   "cell_type": "code",
   "execution_count": null,
   "outputs": [],
   "source": [
    "for n,res in enumerate(respondents):\n",
    "    ax = plt.subplot(2,2,n+1)\n",
    "    energy_df.query(f\"respondent == '{res}' \")['value'].plot(ax =ax, figsize=(16,9))\n",
    "    ax.set_title(label =f'{res}',fontsize =14)\n",
    "    plt.tight_layout()"
   ],
   "metadata": {
    "collapsed": false,
    "pycharm": {
     "name": "#%%\n"
    }
   }
  },
  {
   "cell_type": "code",
   "execution_count": null,
   "outputs": [],
   "source": [
    "NY = energy_df.query(\"respondent== 'New York Independent System Operator' and value > 11000 and value <32000\").copy()\n",
    "FL = energy_df.query(\"respondent == 'Florida Power and Light' and value >14000 and value < 49000\").copy()\n",
    "CA = energy_df.query(\"respondent ==  'California Independent System Operator' and value >15000 and value <46000\").copy()\n",
    "TX = energy_df.query(\"respondent ==  'Electric Reliability Council of Texas, Inc.' and value <75000 \").copy()"
   ],
   "metadata": {
    "collapsed": false,
    "pycharm": {
     "name": "#%%\n"
    }
   }
  },
  {
   "cell_type": "code",
   "execution_count": null,
   "outputs": [],
   "source": [
    "NY['demand_3d_lag'] = NY['value'].shift(72)\n",
    "FL['demand_3d_lag'] = FL['value'].shift(72)\n",
    "CA['demand_3d_lag'] = CA['value'].shift(72)\n",
    "TX['demand_3d_lag'] = TX['value'].shift(72)"
   ],
   "metadata": {
    "collapsed": false,
    "pycharm": {
     "name": "#%%\n"
    }
   }
  },
  {
   "cell_type": "code",
   "execution_count": null,
   "outputs": [],
   "source": [
    "NY.dropna(inplace=True)\n",
    "FL.dropna(inplace=True)\n",
    "CA.dropna(inplace=True)\n",
    "TX.dropna(inplace=True)"
   ],
   "metadata": {
    "collapsed": false,
    "pycharm": {
     "name": "#%%\n"
    }
   }
  },
  {
   "cell_type": "code",
   "execution_count": null,
   "outputs": [],
   "source": [
    "fig, ax = plt.subplots(2,2,figsize=(20,12))\n",
    "TX['value'].plot(ax=ax[0, 0], title =respondents[0])\n",
    "NY['value'].plot(ax=ax[0, 1], title = respondents[1])\n",
    "FL['value'].plot(ax=ax[1, 0], title =respondents[2])\n",
    "CA['value'].plot(ax=ax[1, 1], title =respondents[3])\n",
    "fig.suptitle(\"Megawatts generated\", fontsize=20)\n",
    "plt.tight_layout(pad=1)\n",
    "plt.show()"
   ],
   "metadata": {
    "collapsed": false,
    "pycharm": {
     "name": "#%%\n"
    }
   }
  },
  {
   "cell_type": "code",
   "execution_count": null,
   "outputs": [],
   "source": [
    "def create_box_plot(frequency= 'month'):\n",
    "    frequency= frequency.lower()\n",
    "    fig, ax = plt.subplots(2,2 ,figsize=(20,12))\n",
    "    sns.boxplot(data=TX, x=frequency, y='value', palette='Blues', ax=ax[0, 0], width=.4, linewidth=.8, fliersize=4)\n",
    "    ax[0,0].set_title(respondents[0])\n",
    "    sns.boxplot(data=NY, x=frequency, y='value', palette='Blues', ax=ax[0, 1], width=.4, linewidth=.8, fliersize=4)\n",
    "    ax[0,1].set_title(respondents[1])\n",
    "    sns.boxplot(data=FL, x=frequency, y='value', palette='Blues', ax=ax[1, 0], width=.4, linewidth=.8, fliersize=4)\n",
    "    ax[1,0].set_title(respondents[2])\n",
    "    sns.boxplot(data=CA, x=frequency, y='value', palette='Blues', ax=ax[1, 1], width=.4, linewidth=.8, fliersize=4)\n",
    "    ax[1,1].set_title(respondents[3])\n",
    "    plt.tight_layout(pad=2)\n",
    "    plt.show()"
   ],
   "metadata": {
    "collapsed": false,
    "pycharm": {
     "name": "#%%\n"
    }
   }
  },
  {
   "cell_type": "code",
   "execution_count": null,
   "outputs": [],
   "source": [
    "# hour = create_box_plot('hour')\n",
    "# month = create_box_plot('month')\n",
    "# quarter = create_box_plot('quarter')"
   ],
   "metadata": {
    "collapsed": false,
    "pycharm": {
     "name": "#%%\n"
    }
   }
  },
  {
   "cell_type": "code",
   "execution_count": null,
   "outputs": [],
   "source": [
    "# NY.to_parquet('../data/ML_Data/NY', engine='pyarrow')\n",
    "# FL.to_parquet('../data/ML_Data/FL', engine='pyarrow')\n",
    "# CA.to_parquet('../data/ML_Data/CA', engine='pyarrow')\n",
    "# TX.to_parquet('../data/ML_Data/TX', engine='pyarrow')"
   ],
   "metadata": {
    "collapsed": false,
    "pycharm": {
     "name": "#%%\n"
    }
   }
  },
  {
   "cell_type": "code",
   "execution_count": null,
   "outputs": [],
   "source": [
    "fig, axs = plt.subplots(3,1, figsize=(10,10), sharex=True)\n",
    "tss = TimeSeriesSplit(n_splits=3, test_size=24*547, gap=24)\n",
    "fold = 0\n",
    "for train_idx, val_idx in tss.split(NY):\n",
    "    train = NY.iloc[train_idx]\n",
    "    test = NY.iloc[val_idx]\n",
    "    train['value'].plot(ax=axs[fold],\n",
    "                          label='Training Set',\n",
    "                          title=f'Data Train/Test Split Fold {fold}')\n",
    "    test['value'].plot(ax=axs[fold],\n",
    "                         label='Test Set')\n",
    "    axs[fold].axvline(test.index.min(), color='black', ls='--')\n",
    "    fold += 1\n",
    "plt.show()"
   ],
   "metadata": {
    "collapsed": false,
    "pycharm": {
     "name": "#%%\n"
    }
   }
  },
  {
   "cell_type": "code",
   "execution_count": null,
   "outputs": [],
   "source": [
    "TARGET = 'value'\n",
    "FEATURES = NY.columns[2:]"
   ],
   "metadata": {
    "collapsed": false,
    "pycharm": {
     "name": "#%%\n"
    }
   }
  },
  {
   "cell_type": "code",
   "execution_count": null,
   "outputs": [],
   "source": [
    "TX_params1 = {\n",
    "    \"base_score\": 0.5,\n",
    "    \"booster\": \"gbtree\",\n",
    "    \"n_estimators\": 8000,\n",
    "    \"early_stopping_rounds\": 100,\n",
    "    \"max_depth\": 12,\n",
    "    \"learning_rate\": 0.1,\n",
    "    \"subsample\": .9,\n",
    "    \"reg_lambda\": 20,\n",
    "    \"reg_alpha\": 20,\n",
    "    \"min_split_loss\": 20,\n",
    "    \"min_child_weight\": 15,\n",
    "    \"colsample_bytree\": .8,\n",
    "    \"colsample_bylevel\": .8,\n",
    "    \"colsample_bynode\": 1,\n",
    "    \"random_state\": 0,\n",
    "    \"eval_metric\": ['rmse','mae']\n",
    "}"
   ],
   "metadata": {
    "collapsed": false,
    "pycharm": {
     "name": "#%%\n"
    }
   }
  },
  {
   "cell_type": "code",
   "execution_count": null,
   "outputs": [],
   "source": [
    "def xgb_train(df, params=None, week_list=None, show_graph = \"no\"):\n",
    "    if params is None:\n",
    "        params = {}\n",
    "    tss = TimeSeriesSplit(n_splits=3, test_size=24*547, gap=24)\n",
    "    df = df.sort_index()\n",
    "    fold = 0\n",
    "    preds = []\n",
    "    scores_rmse = []\n",
    "    scores_mae = []\n",
    "    for train_idx, val_idx in tss.split(df):\n",
    "        train = df.iloc[train_idx]\n",
    "        test = df.iloc[val_idx]\n",
    "        X_train = train[FEATURES]\n",
    "        y_train = train[TARGET]\n",
    "        X_test = test[FEATURES]\n",
    "        y_test = test[TARGET]\n",
    "        reg = xgb.XGBRegressor()\n",
    "        reg.set_params(**params)\n",
    "        reg.fit(X_train, y_train,\n",
    "            eval_set=[(X_train, y_train), (X_test, y_test)],\n",
    "            verbose=1500,)\n",
    "        y_pred = reg.predict(X_test)\n",
    "        preds.append(y_pred)\n",
    "        score_rmse = np.sqrt(mean_squared_error(y_test, y_pred))\n",
    "        scores_rmse.append(score_rmse)\n",
    "        scores_mae.append(mean_absolute_error(y_test,y_pred))\n",
    "    print(f'Score across folds {np.mean(scores_rmse):0.4f}')\n",
    "    print(f'Fold scores:{scores_rmse}')\n",
    "    print(f'Score across folds {np.mean(scores_mae):0.4f}')\n",
    "    print(f'Fold scores:{scores_mae}')\n",
    "\n",
    "    if show_graph.lower() == 'yes':\n",
    "        if week_list is None:\n",
    "            week = ['03-20-2022', '03-27-2022']\n",
    "        else:\n",
    "            week = week_list\n",
    "        test['prediction'] = reg.predict(X_test)\n",
    "        df = df.merge(test[['prediction']], how='left', left_index=True, right_index=True)\n",
    "        ax = df[['value']].plot(figsize=(15, 6))\n",
    "        df['prediction'].plot(ax=ax, style='.')\n",
    "        plt.legend(['Actual', 'Predicted'],loc='upper right')\n",
    "        ax.set_title('texas Actual VS. Predicted')\n",
    "        plt.show()\n",
    "\n",
    "\n",
    "        ax = df.loc[(df.index > week[0]) & (df.index < week[1])]['value'] \\\n",
    "        .plot(figsize=(15, 6), title='Week Of Data')\n",
    "        df.loc[(df.index > week[0]) & (df.index < week[1])]['prediction'] \\\n",
    "            .plot()\n",
    "        plt.legend(['Actual','Predicted'],loc='upper right')\n",
    "        plt.show()\n",
    "\n",
    "        fig, ax = plt.subplots(figsize=(10,10))\n",
    "        xgb.plot_importance(reg,importance_type='gain', ax=ax, show_values=False, max_num_features=30)\n",
    "    return reg,df"
   ],
   "metadata": {
    "collapsed": false,
    "pycharm": {
     "name": "#%%\n"
    }
   }
  },
  {
   "cell_type": "code",
   "execution_count": null,
   "outputs": [],
   "source": [
    "model_TX, TX_df =xgb_train(TX, TX_params1, show_graph ='yes')"
   ],
   "metadata": {
    "collapsed": false,
    "pycharm": {
     "name": "#%%\n"
    }
   }
  },
  {
   "cell_type": "code",
   "execution_count": null,
   "outputs": [],
   "source": [
    "model_NY, NY_df =xgb_train(NY, TX_params1, show_graph='no')"
   ],
   "metadata": {
    "collapsed": false,
    "pycharm": {
     "name": "#%%\n"
    }
   }
  },
  {
   "cell_type": "code",
   "execution_count": null,
   "outputs": [],
   "source": [
    "model_CA, CA_df =xgb_train(CA, TX_params1, show_graph='no')"
   ],
   "metadata": {
    "collapsed": false,
    "pycharm": {
     "name": "#%%\n"
    }
   }
  },
  {
   "cell_type": "code",
   "execution_count": null,
   "outputs": [],
   "source": [
    "model_FL, FL_df =xgb_train(FL, TX_params1, show_graph='no')"
   ],
   "metadata": {
    "collapsed": false,
    "pycharm": {
     "name": "#%%\n"
    }
   }
  },
  {
   "cell_type": "code",
   "execution_count": null,
   "outputs": [],
   "source": [
    "filename = 'Texas_model.pkl'\n",
    "pickle.dump(model_TX,open(filename,'wb'))"
   ],
   "metadata": {
    "collapsed": false,
    "pycharm": {
     "name": "#%%\n"
    }
   }
  },
  {
   "cell_type": "code",
   "execution_count": null,
   "outputs": [],
   "source": [
    "ax = TX_df[['value']].plot(figsize=(15, 6))\n",
    "TX_df['prediction'].plot(ax=ax, style='.')\n",
    "plt.legend(['Actual', 'Predicted'],loc='upper right')\n",
    "ax.set_title('texas Actual VS. Predicted')\n",
    "plt.show()"
   ],
   "metadata": {
    "collapsed": false,
    "pycharm": {
     "name": "#%%\n"
    }
   }
  },
  {
   "cell_type": "code",
   "execution_count": null,
   "outputs": [],
   "source": [
    "m = pickle.load(open(filename, 'rb'))"
   ],
   "metadata": {
    "collapsed": false,
    "pycharm": {
     "name": "#%%\n"
    }
   }
  },
  {
   "cell_type": "code",
   "execution_count": null,
   "outputs": [],
   "source": [
    "import plotly.express as px"
   ],
   "metadata": {
    "collapsed": false,
    "pycharm": {
     "name": "#%%\n"
    }
   }
  },
  {
   "cell_type": "code",
   "execution_count": null,
   "outputs": [],
   "source": [
    "fig, ax = plt.subplots(figsize=(10,10))\n",
    "xgb.plot_importance(m,importance_type='gain', ax=ax, show_values=False, max_num_features=30)"
   ],
   "metadata": {
    "collapsed": false,
    "pycharm": {
     "name": "#%%\n"
    }
   }
  },
  {
   "cell_type": "code",
   "execution_count": null,
   "outputs": [],
   "source": [
    "fi = pd.DataFrame(data=m.feature_importances_,\n",
    "   index = m.get_booster().feature_names,\n",
    "    columns=['importance'])\n"
   ],
   "metadata": {
    "collapsed": false,
    "pycharm": {
     "name": "#%%\n"
    }
   }
  },
  {
   "cell_type": "code",
   "execution_count": null,
   "outputs": [],
   "source": [
    "fi.sort_values()"
   ],
   "metadata": {
    "collapsed": false,
    "pycharm": {
     "name": "#%%\n"
    }
   }
  },
  {
   "cell_type": "code",
   "execution_count": null,
   "outputs": [],
   "source": [],
   "metadata": {
    "collapsed": false,
    "pycharm": {
     "name": "#%%\n"
    }
   }
  },
  {
   "cell_type": "code",
   "execution_count": null,
   "outputs": [],
   "source": [],
   "metadata": {
    "collapsed": false,
    "pycharm": {
     "name": "#%%\n"
    }
   }
  },
  {
   "cell_type": "code",
   "execution_count": null,
   "outputs": [],
   "source": [
    "x = m.get_booster()"
   ],
   "metadata": {
    "collapsed": false,
    "pycharm": {
     "name": "#%%\n"
    }
   }
  },
  {
   "cell_type": "code",
   "execution_count": null,
   "outputs": [],
   "source": [
    "x.feature_importances_"
   ],
   "metadata": {
    "collapsed": false,
    "pycharm": {
     "name": "#%%\n"
    }
   }
  },
  {
   "cell_type": "code",
   "execution_count": null,
   "outputs": [],
   "source": [
    "# test['error'] = np.abs(test[TARGET] - test['prediction'])\n",
    "# test['date'] = test.index.date\n",
    "# test.groupby(['date'])['error'].mean().sort_values(ascending=False).head(10)"
   ],
   "metadata": {
    "collapsed": false,
    "pycharm": {
     "name": "#%%\n"
    }
   }
  },
  {
   "cell_type": "code",
   "execution_count": null,
   "outputs": [],
   "source": [
    "# def create_importance(model):\n",
    "#     fig, ax = plt.subplots(figsize=(10,10))\n",
    "#     xgb.plot_importance(model,importance_type='weight', ax=ax, show_values=False, max_num_features=30)"
   ],
   "metadata": {
    "collapsed": false,
    "pycharm": {
     "name": "#%%\n"
    }
   }
  },
  {
   "cell_type": "code",
   "execution_count": null,
   "outputs": [],
   "source": [
    "# reg.save_model('model.json')"
   ],
   "metadata": {
    "collapsed": false,
    "pycharm": {
     "name": "#%%\n"
    }
   }
  },
  {
   "cell_type": "code",
   "execution_count": null,
   "outputs": [],
   "source": [],
   "metadata": {
    "collapsed": false,
    "pycharm": {
     "name": "#%%\n"
    }
   }
  },
  {
   "cell_type": "code",
   "execution_count": null,
   "outputs": [],
   "source": [
    "# def create_graphs(week=None):\n",
    "#     if week is None:\n",
    "#         week = ['12-20-2022', '12-27-2022']\n",
    "#     test['prediction'] = reg.predict(X_test)\n",
    "#     df = df.merge(test[['prediction']], how='left', left_index=True, right_index=True)\n",
    "#     ax = df[['value']].plot(figsize=(15, 6))\n",
    "#     df['prediction'].plot(ax=ax, style='.')\n",
    "#     plt.legend(['Actual', 'Predicted'],loc='upper right')\n",
    "#     ax.set_title('Actual VS. Predicted')\n",
    "#     plt.show()\n",
    "#\n",
    "#\n",
    "#     ax = df.loc[(df.index > week[0]) & (df.index < week[1])]['value'] \\\n",
    "#     .plot(figsize=(15, 6), title='Week Of Data')\n",
    "#     df.loc[(df.index > week[0]) & (df.index < week[1])]['prediction'] \\\n",
    "#         .plot()\n",
    "#     plt.legend(['Actual','Predicted'],loc='upper right')\n",
    "#     plt.show()"
   ],
   "metadata": {
    "collapsed": false,
    "pycharm": {
     "name": "#%%\n"
    }
   }
  }
 ],
 "metadata": {
  "kernelspec": {
   "display_name": "Python 3",
   "language": "python",
   "name": "python3"
  },
  "language_info": {
   "codemirror_mode": {
    "name": "ipython",
    "version": 2
   },
   "file_extension": ".py",
   "mimetype": "text/x-python",
   "name": "python",
   "nbconvert_exporter": "python",
   "pygments_lexer": "ipython2",
   "version": "2.7.6"
  }
 },
 "nbformat": 4,
 "nbformat_minor": 0
}
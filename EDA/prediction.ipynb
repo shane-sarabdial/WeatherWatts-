{
 "cells": [
  {
   "cell_type": "code",
   "execution_count": 21,
   "metadata": {
    "collapsed": true
   },
   "outputs": [],
   "source": [
    "import pandas as pd\n",
    "import pickle\n",
    "import requests\n",
    "import numpy as np\n",
    "from yahooquery import Ticker\n",
    "import datetime\n",
    "from datetime import date\n",
    "import urllib.request\n",
    "import sys\n",
    "import json\n",
    "import warnings\n",
    "warnings.filterwarnings('ignore')\n",
    "pd.set_option('display.max_rows', None)\n",
    "pd.set_option('display.max_columns', None)\n",
    "import re"
   ]
  },
  {
   "cell_type": "code",
   "execution_count": 22,
   "outputs": [],
   "source": [
    "delta1 = datetime.timedelta(days=2)\n",
    "delta2  =datetime.timedelta(days=3)\n",
    "delta3 = datetime.timedelta(days=-3)\n",
    "delta4 = datetime.timedelta(days=1)\n",
    "today = date.today()\n",
    "one_day_ahead = today + delta4\n",
    "two_day_ahead = today + delta1\n",
    "three_days_ahead = today + delta2\n",
    "three_days_behind = today +delta3"
   ],
   "metadata": {
    "collapsed": false,
    "pycharm": {
     "name": "#%%\n"
    }
   }
  },
  {
   "cell_type": "code",
   "execution_count": 23,
   "outputs": [],
   "source": [
    "holiday = pd.read_csv('../data/holiday.csv')"
   ],
   "metadata": {
    "collapsed": false,
    "pycharm": {
     "name": "#%%\n"
    }
   }
  },
  {
   "cell_type": "code",
   "execution_count": 24,
   "outputs": [],
   "source": [
    "ticker = Ticker('XLF')"
   ],
   "metadata": {
    "collapsed": false,
    "pycharm": {
     "name": "#%%\n"
    }
   }
  },
  {
   "cell_type": "code",
   "execution_count": 25,
   "outputs": [],
   "source": [
    "XLE = ticker.history(period='3mo', interval='1d', adj_timezone=False)['adjclose'].unstack().T"
   ],
   "metadata": {
    "collapsed": false,
    "pycharm": {
     "name": "#%%\n"
    }
   }
  },
  {
   "cell_type": "code",
   "execution_count": 26,
   "outputs": [],
   "source": [
    "future = pd.date_range(str(one_day_ahead), str(two_day_ahead), freq='1d', tz='UTC')"
   ],
   "metadata": {
    "collapsed": false,
    "pycharm": {
     "name": "#%%\n"
    }
   }
  },
  {
   "cell_type": "code",
   "execution_count": 27,
   "outputs": [],
   "source": [
    "future_df = pd.DataFrame(index=future)"
   ],
   "metadata": {
    "collapsed": false,
    "pycharm": {
     "name": "#%%\n"
    }
   }
  },
  {
   "cell_type": "code",
   "execution_count": 8,
   "outputs": [],
   "source": [
    "XLE = pd.concat([XLE, future_df])"
   ],
   "metadata": {
    "collapsed": false,
    "pycharm": {
     "name": "#%%\n"
    }
   }
  },
  {
   "cell_type": "code",
   "execution_count": 30,
   "outputs": [],
   "source": [
    "XLE.index = pd.to_datetime(XLE.index, utc=True)\n",
    "XLE['year'] = XLE.index.year\n",
    "XLE['dayofyear'] =XLE.index.dayofyear"
   ],
   "metadata": {
    "collapsed": false,
    "pycharm": {
     "name": "#%%\n"
    }
   }
  },
  {
   "cell_type": "code",
   "execution_count": 11,
   "outputs": [],
   "source": [
    "XLE.rename(columns={'XLF':'Adj Close'}, inplace=True)"
   ],
   "metadata": {
    "collapsed": false,
    "pycharm": {
     "name": "#%%\n"
    }
   }
  },
  {
   "cell_type": "code",
   "execution_count": 469,
   "outputs": [],
   "source": [
    "XLE['Adj_Close_3D_lag'] = XLE['Adj Close'].shift(freq='3D')\n",
    "XLE['Adj_Close_30D_lag'] = XLE['Adj Close'].shift(freq='28D')\n",
    "XLE['Adj_Close_60D_lag'] = XLE['Adj Close'].shift(freq='56D')\n",
    "XLE['Adj_Close_30D_lag'] = XLE['Adj_Close_30D_lag'].ffill()\n",
    "XLE['Adj_Close_60D_lag'] = XLE['Adj_Close_60D_lag'].ffill()\n",
    "XLE['Adj_Close_3D_lag'] = XLE['Adj_Close_3D_lag'].ffill()"
   ],
   "metadata": {
    "collapsed": false,
    "pycharm": {
     "name": "#%%\n"
    }
   }
  },
  {
   "cell_type": "code",
   "execution_count": 470,
   "outputs": [],
   "source": [
    "locations2 = ['Los%20Angeles', 'Tampa', 'Austin','new%20york%20city']"
   ],
   "metadata": {
    "collapsed": false,
    "pycharm": {
     "name": "#%%\n"
    }
   }
  },
  {
   "cell_type": "code",
   "execution_count": 471,
   "outputs": [],
   "source": [
    "weather_df = pd.DataFrame()\n",
    "try:\n",
    "    for loc in locations2:\n",
    "        ResultBytes = urllib.request.urlopen(f\"https://weather.visualcrossing.com/VisualCrossingWebServices/\"\n",
    "                                             f\"rest/services/timeline/{loc}/{three_days_behind}/{three_days_ahead}?\"\n",
    "                                             f\"unitGroup=us&include=fcst%2Chours%2Cobs&\"\n",
    "                                             f\"key=WREBBANRZ6AS2Q7XGN9MPALGF&contentType=json\")\n",
    "\n",
    "      # Parse the results as JSON\n",
    "        jsonData = json.load(ResultBytes)\n",
    "        for i in range(len(jsonData['days'])):\n",
    "            day = pd.DataFrame(jsonData['days'][i]['hours'])\n",
    "            day['name'] = loc.replace('%20',' ')\n",
    "            weather_df = pd.concat([weather_df,day])\n",
    "\n",
    "except urllib.error.HTTPError  as e:\n",
    "  ErrorInfo= e.read().decode()\n",
    "  print('Error code: ', e.code, ErrorInfo)\n",
    "  sys.exit()\n",
    "except  urllib.error.URLError as e:\n",
    "  ErrorInfo= e.read().decode()\n",
    "  print('Error code: ', e.code,ErrorInfo)\n",
    "  sys.exit()"
   ],
   "metadata": {
    "collapsed": false,
    "pycharm": {
     "name": "#%%\n"
    }
   }
  },
  {
   "cell_type": "code",
   "execution_count": 472,
   "outputs": [],
   "source": [
    "locations =[ \"CISO\", \"ERCO\",\"NYIS\",\"FLA\"]"
   ],
   "metadata": {
    "collapsed": false,
    "pycharm": {
     "name": "#%%\n"
    }
   }
  },
  {
   "cell_type": "code",
   "execution_count": 473,
   "outputs": [],
   "source": [
    "def json_to_dateframe(response):\n",
    "    return pd.DataFrame(response.json()['response']['data'][1:], columns= response.json()['response']['data'][0])"
   ],
   "metadata": {
    "collapsed": false,
    "pycharm": {
     "name": "#%%\n"
    }
   }
  },
  {
   "cell_type": "code",
   "execution_count": 474,
   "outputs": [],
   "source": [
    "key = 'sTv4JWSnbR70W7WbCrXWepkOviLnFKxbsVHbIL1C'"
   ],
   "metadata": {
    "collapsed": false,
    "pycharm": {
     "name": "#%%\n"
    }
   }
  },
  {
   "cell_type": "code",
   "execution_count": 475,
   "outputs": [],
   "source": [
    "from time import sleep\n",
    "energy = pd.DataFrame()\n",
    "for loc in locations:\n",
    "    try:\n",
    "        url = f'https://api.eia.gov/v2/electricity/rto/region-data/data/?frequency=hourly&data[0]=value&facets[respondent][]={loc}&facets[type][]=D&facets[type][]=NG&start={str(three_days_behind)}T00&end={str(today)}T00&sort[0][column]=period&sort[0][direction]=desc&offset=0&length=5000&api_key={key}'\n",
    "        response = requests.get(url)\n",
    "        df = json_to_dateframe(response)\n",
    "        energy = pd.concat([energy, df])\n",
    "    except:\n",
    "        print('error')"
   ],
   "metadata": {
    "collapsed": false,
    "pycharm": {
     "name": "#%%\n"
    }
   }
  },
  {
   "cell_type": "code",
   "execution_count": 476,
   "outputs": [],
   "source": [
    "demand = energy.query(\"type == 'D' \")"
   ],
   "metadata": {
    "collapsed": false,
    "pycharm": {
     "name": "#%%\n"
    }
   }
  },
  {
   "cell_type": "code",
   "execution_count": 477,
   "outputs": [],
   "source": [
    "demand['respondent-name'] = demand['respondent-name'].replace('Florida', 'Florida Power and Light').copy()\n",
    "demand['period'] = pd.to_datetime(demand.period)\n",
    "demand['period'] = pd.to_datetime(demand.period)"
   ],
   "metadata": {
    "collapsed": false,
    "pycharm": {
     "name": "#%%\n"
    }
   }
  },
  {
   "cell_type": "code",
   "execution_count": 478,
   "outputs": [],
   "source": [
    "respondents =['Electric Reliability Council of Texas, Inc.' ,\n",
    "              'New York Independent System Operator',\n",
    "              'Florida Power and Light' ,\n",
    "               'California Independent System Operator',]"
   ],
   "metadata": {
    "collapsed": false,
    "pycharm": {
     "name": "#%%\n"
    }
   }
  },
  {
   "cell_type": "code",
   "execution_count": 479,
   "outputs": [],
   "source": [
    "demand['name'] = demand['respondent-name']"
   ],
   "metadata": {
    "collapsed": false,
    "pycharm": {
     "name": "#%%\n"
    }
   }
  },
  {
   "cell_type": "code",
   "execution_count": 480,
   "outputs": [],
   "source": [
    "demand['name'] = demand['name'].replace(respondents[3], 'Los Angeles')\n",
    "demand['name'] = demand['name'].replace(respondents[2], 'Tampa')\n",
    "demand['name'] = demand['name'].replace(respondents[0], 'Austin')\n",
    "demand['name'] = demand['name'].replace(respondents[1], 'new york city')"
   ],
   "metadata": {
    "collapsed": false,
    "pycharm": {
     "name": "#%%\n"
    }
   }
  },
  {
   "cell_type": "code",
   "execution_count": 481,
   "outputs": [],
   "source": [
    "weather_df['period'] = pd.to_datetime(weather_df.datetimeEpoch, unit='s')"
   ],
   "metadata": {
    "collapsed": false,
    "pycharm": {
     "name": "#%%\n"
    }
   }
  },
  {
   "cell_type": "code",
   "execution_count": 482,
   "outputs": [],
   "source": [
    "demand_weather = pd.merge(demand,weather_df, how='right', on=['name','period'],suffixes=('','2'))\n",
    "demand_weather = demand_weather.set_index(demand_weather.period)\n",
    "demand_weather= demand_weather.drop(columns=['type','type-name','datetime','datetimeEpoch','stations','solarenergy','source','severerisk','preciptype','windgust','value-units','respondent','icon','conditions'])"
   ],
   "metadata": {
    "collapsed": false,
    "pycharm": {
     "name": "#%%\n"
    }
   }
  },
  {
   "cell_type": "code",
   "execution_count": 483,
   "outputs": [],
   "source": [
    "demand_weather['year'] = demand_weather.index.year\n",
    "demand_weather['month'] = demand_weather.index.month\n",
    "demand_weather['days'] = demand_weather.index.dayofweek\n",
    "demand_weather['hour'] = demand_weather.index.hour\n",
    "demand_weather['quarter'] = demand_weather.index.quarter\n",
    "demand_weather['dayofyear'] = demand_weather.index.dayofyear\n",
    "demand_weather[\"Is Weekend\"] = demand_weather.index.day_name().isin(['Saturday', 'Sunday'])"
   ],
   "metadata": {
    "collapsed": false,
    "pycharm": {
     "name": "#%%\n"
    }
   }
  },
  {
   "cell_type": "code",
   "execution_count": 484,
   "outputs": [],
   "source": [
    "demand_weather = pd.merge(demand_weather,XLE.iloc[:,1:],how='left', on=['year','dayofyear'])"
   ],
   "metadata": {
    "collapsed": false,
    "pycharm": {
     "name": "#%%\n"
    }
   }
  },
  {
   "cell_type": "code",
   "execution_count": null,
   "outputs": [],
   "source": [
    "holiday['year'] = holiday['year'].astype('int')\n",
    "holiday['dayofyear'] = holiday['dayofyear'].astype('int')"
   ],
   "metadata": {
    "collapsed": false,
    "pycharm": {
     "name": "#%%\n"
    }
   }
  },
  {
   "cell_type": "code",
   "execution_count": 485,
   "outputs": [],
   "source": [
    "holidays =holiday.drop('Date',axis=1)\n",
    "demand_weather = pd.merge(demand_weather,holidays, how='outer', on=['year','dayofyear'])"
   ],
   "metadata": {
    "collapsed": false,
    "pycharm": {
     "name": "#%%\n"
    }
   }
  },
  {
   "cell_type": "code",
   "execution_count": 486,
   "outputs": [],
   "source": [
    "demand_weather['solarradiation'] = demand_weather['solarradiation'].bfill()\n",
    "demand_weather['uvindex'] = demand_weather['uvindex'].bfill()\n",
    "demand_weather['snow'] = demand_weather['snow'].bfill()"
   ],
   "metadata": {
    "collapsed": false,
    "pycharm": {
     "name": "#%%\n"
    }
   }
  },
  {
   "cell_type": "code",
   "execution_count": 487,
   "outputs": [],
   "source": [
    "demand_weather.loc[demand_weather['name'] == 'Los Angeles', 'respondent-name'] = 'California Independent System Operator'\n",
    "demand_weather.loc[demand_weather['name'] == 'new york city', 'respondent-name'] = 'New York Independent System Operator'\n",
    "demand_weather.loc[demand_weather['name'] == 'Tampa', 'respondent-name'] = 'Florida Power and Light'\n",
    "demand_weather.loc[demand_weather['name'] == 'Austin', 'respondent-name'] = 'Electric Reliability Council of Texas, Inc.'"
   ],
   "metadata": {
    "collapsed": false,
    "pycharm": {
     "name": "#%%\n"
    }
   }
  },
  {
   "cell_type": "code",
   "execution_count": 488,
   "outputs": [],
   "source": [
    "demand_weather = demand_weather.set_index('period')\n",
    "demand_weather.index = pd.to_datetime(demand_weather.index)\n",
    "demand_weather.rename(columns={'respondent-name':'respondent','pressure': 'sealevelevelpressure'}, inplace=True)"
   ],
   "metadata": {
    "collapsed": false,
    "pycharm": {
     "name": "#%%\n"
    }
   }
  },
  {
   "cell_type": "code",
   "execution_count": 424,
   "outputs": [],
   "source": [
    "demand_weather = pd.get_dummies(demand_weather, columns=['Holiday','Is Weekend'], drop_first=True, dtype=float)\n",
    "new_names = {col: re.sub(r'[^A-Za-z0-9_]+', '', col) for col in demand_weather.columns}\n",
    "new_n_list = list(new_names.values())\n",
    "# [LightGBM] Feature appears more than one time.\n",
    "new_names = {col: f'{new_col}_{i}' if new_col in new_n_list[:i] else new_col for i, (col, new_col) in enumerate(new_names.items())}\n",
    "demand_weather = demand_weather.rename(columns=new_names)"
   ],
   "metadata": {
    "collapsed": false,
    "pycharm": {
     "name": "#%%\n"
    }
   }
  },
  {
   "cell_type": "code",
   "execution_count": 498,
   "outputs": [],
   "source": [
    "NY = demand_weather.query(\"respondent== 'New York Independent System Operator'\")\n",
    "FL = demand_weather.query(\"respondent == 'Florida Power and Light'\")\n",
    "CA = demand_weather.query(\"respondent ==  'California Independent System Operator'\")\n",
    "TX = demand_weather.query(\"respondent ==  'Electric Reliability Council of Texas, Inc.'\")"
   ],
   "metadata": {
    "collapsed": false,
    "pycharm": {
     "name": "#%%\n"
    }
   }
  },
  {
   "cell_type": "code",
   "execution_count": 501,
   "outputs": [],
   "source": [
    "TX = TX[~TX.index.duplicated(keep='first')]\n",
    "NY = NY[~NY.index.duplicated(keep='first')]\n",
    "CA = CA[~CA.index.duplicated(keep='first')]\n",
    "FL = FL[~FL.index.duplicated(keep='first')]"
   ],
   "metadata": {
    "collapsed": false,
    "pycharm": {
     "name": "#%%\n"
    }
   }
  },
  {
   "cell_type": "code",
   "execution_count": 444,
   "outputs": [],
   "source": [
    "NY['demand_3d_lag'] = NY['value'].shift(72)\n",
    "FL['demand_3d_lag'] = FL['value'].shift(72)\n",
    "CA['demand_3d_lag'] = CA['value'].shift(72)\n",
    "TX['demand_3d_lag'] = TX['value'].shift(72)"
   ],
   "metadata": {
    "collapsed": false,
    "pycharm": {
     "name": "#%%\n"
    }
   }
  },
  {
   "cell_type": "code",
   "execution_count": 445,
   "outputs": [],
   "source": [
    "NY['24_hours_ahead'] = NY['temp'].shift(-24, freq='h')\n",
    "FL['24_hours_ahead'] = FL['temp'].shift(-24 ,freq='h')\n",
    "CA['24_hours_ahead'] = CA['temp'].shift(-24, freq='h')\n",
    "TX['24_hours_ahead'] = TX['temp'].shift(-24, freq='h')"
   ],
   "metadata": {
    "collapsed": false,
    "pycharm": {
     "name": "#%%\n"
    }
   }
  },
  {
   "cell_type": "code",
   "execution_count": 496,
   "outputs": [],
   "source": [
    "TX  = TX.iloc[(TX.index >= str(today)) & (TX.index <= str(three_days_ahead))]\n",
    "NY  = NY.iloc[(NY.index >= str(today)) & (NY.index <= str(three_days_ahead))]\n",
    "CA  = CA.iloc[(CA.index >= str(today)) & (CA.index <= str(three_days_ahead))]\n",
    "FL  = FL.iloc[(FL.index >= str(today)) & (FL.index <= str(three_days_ahead))]"
   ],
   "metadata": {
    "collapsed": false,
    "pycharm": {
     "name": "#%%\n"
    }
   }
  },
  {
   "cell_type": "code",
   "execution_count": 447,
   "outputs": [],
   "source": [
    "Features = TX.columns[3:]"
   ],
   "metadata": {
    "collapsed": false,
    "pycharm": {
     "name": "#%%\n"
    }
   }
  },
  {
   "cell_type": "code",
   "execution_count": 448,
   "outputs": [],
   "source": [
    "TX_X = TX[Features]\n",
    "NY_X = NY[Features]\n",
    "CA_X = CA[Features]\n",
    "FL_X = FL[Features]"
   ],
   "metadata": {
    "collapsed": false,
    "pycharm": {
     "name": "#%%\n"
    }
   }
  },
  {
   "cell_type": "code",
   "execution_count": 449,
   "outputs": [],
   "source": [
    "TX_X = TX_X.ffill()\n",
    "NY_X = NY_X.ffill()\n",
    "CA_X = CA_X.ffill()\n",
    "FL_X = FL_X.ffill()"
   ],
   "metadata": {
    "collapsed": false,
    "pycharm": {
     "name": "#%%\n"
    }
   }
  },
  {
   "cell_type": "code",
   "execution_count": 450,
   "outputs": [],
   "source": [
    "TX_X = TX_X.dropna(subset=['demand_3d_lag'])\n",
    "NY_X = NY_X.dropna(subset=['demand_3d_lag'])\n",
    "CA_X = CA_X.dropna(subset=['demand_3d_lag'])\n",
    "FL_X = FL_X.dropna(subset=['demand_3d_lag'])"
   ],
   "metadata": {
    "collapsed": false,
    "pycharm": {
     "name": "#%%\n"
    }
   }
  },
  {
   "cell_type": "code",
   "execution_count": 451,
   "outputs": [],
   "source": [
    "filename = R'C:\\Users\\shane\\Desktop\\Dev\\Capstone\\WeatherWatts-\\app\\Data\\TX\\model_TX.pkl'\n",
    "with open(filename,'rb') as f:\n",
    "    model = pickle.load(f)"
   ],
   "metadata": {
    "collapsed": false,
    "pycharm": {
     "name": "#%%\n"
    }
   }
  },
  {
   "cell_type": "code",
   "execution_count": 452,
   "outputs": [],
   "source": [
    "TX_X['pred'] = model.predict(TX_X)"
   ],
   "metadata": {
    "collapsed": false,
    "pycharm": {
     "name": "#%%\n"
    }
   }
  },
  {
   "cell_type": "code",
   "execution_count": 453,
   "outputs": [
    {
     "data": {
      "text/plain": "<Axes: xlabel='period'>"
     },
     "execution_count": 453,
     "metadata": {},
     "output_type": "execute_result"
    },
    {
     "data": {
      "text/plain": "<Figure size 640x480 with 1 Axes>",
      "image/png": "[encoded data removed]"
     },
     "metadata": {},
     "output_type": "display_data"
    }
   ],
   "source": [
    "TX_X['pred'].plot()"
   ],
   "metadata": {
    "collapsed": false,
    "pycharm": {
     "name": "#%%\n"
    }
   }
  },
  {
   "cell_type": "code",
   "execution_count": 454,
   "outputs": [],
   "source": [
    "NY_Xfilename = R'C:\\Users\\shane\\Desktop\\Dev\\Capstone\\WeatherWatts-\\app\\Data\\NY\\model_NY.pkl'\n",
    "with open(NY_Xfilename,'rb') as f:\n",
    "    model = pickle.load(f)"
   ],
   "metadata": {
    "collapsed": false,
    "pycharm": {
     "name": "#%%\n"
    }
   }
  },
  {
   "cell_type": "code",
   "execution_count": 455,
   "outputs": [],
   "source": [
    "NY_X['pred'] = model.predict(NY_X)"
   ],
   "metadata": {
    "collapsed": false,
    "pycharm": {
     "name": "#%%\n"
    }
   }
  },
  {
   "cell_type": "code",
   "execution_count": 456,
   "outputs": [
    {
     "data": {
      "text/plain": "<Axes: xlabel='period'>"
     },
     "execution_count": 456,
     "metadata": {},
     "output_type": "execute_result"
    },
    {
     "data": {
      "text/plain": "<Figure size 640x480 with 1 Axes>",
      "image/png": "[encoded data removed]"
     },
     "metadata": {},
     "output_type": "display_data"
    }
   ],
   "source": [
    "NY_X['pred'].plot()"
   ],
   "metadata": {
    "collapsed": false,
    "pycharm": {
     "name": "#%%\n"
    }
   }
  },
  {
   "cell_type": "code",
   "execution_count": 441,
   "outputs": [],
   "source": [],
   "metadata": {
    "collapsed": false,
    "pycharm": {
     "name": "#%%\n"
    }
   }
  },
  {
   "cell_type": "code",
   "execution_count": 441,
   "outputs": [],
   "source": [],
   "metadata": {
    "collapsed": false,
    "pycharm": {
     "name": "#%%\n"
    }
   }
  },
  {
   "cell_type": "code",
   "execution_count": 441,
   "outputs": [],
   "source": [],
   "metadata": {
    "collapsed": false,
    "pycharm": {
     "name": "#%%\n"
    }
   }
  },
  {
   "cell_type": "code",
   "execution_count": 441,
   "outputs": [],
   "source": [],
   "metadata": {
    "collapsed": false,
    "pycharm": {
     "name": "#%%\n"
    }
   }
  },
  {
   "cell_type": "code",
   "execution_count": 441,
   "outputs": [],
   "source": [],
   "metadata": {
    "collapsed": false,
    "pycharm": {
     "name": "#%%\n"
    }
   }
  }
 ],
 "metadata": {
  "kernelspec": {
   "display_name": "Python 3",
   "language": "python",
   "name": "python3"
  },
  "language_info": {
   "codemirror_mode": {
    "name": "ipython",
    "version": 2
   },
   "file_extension": ".py",
   "mimetype": "text/x-python",
   "name": "python",
   "nbconvert_exporter": "python",
   "pygments_lexer": "ipython2",
   "version": "2.7.6"
  }
 },
 "nbformat": 4,
 "nbformat_minor": 0
}
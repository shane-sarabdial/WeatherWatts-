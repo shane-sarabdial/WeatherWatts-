{
 "cells": [
  {
   "cell_type": "code",
   "execution_count": 0,
   "metadata": {
    "application/vnd.databricks.v1+cell": {
     "cellMetadata": {
      "byteLimit": 2048000,
      "rowLimit": 10000
     },
     "inputWidgets": {},
     "nuid": "e45cc130-4e82-4d9d-aa5c-e4594d6e1367",
     "showTitle": false,
     "title": ""
    }
   },
   "outputs": [
    {
     "output_type": "stream",
     "name": "stdout",
     "output_type": "stream",
     "text": [
      "Python interpreter will be restarted.\nRequirement already satisfied: yahooquery in /local_disk0/.ephemeral_nfs/envs/pythonEnv-71ca5434-e050-4a03-a118-e441b4615bdf/lib/python3.9/site-packages (2.3.1)\nRequirement already satisfied: pandas>=0.24.0 in /databricks/python3/lib/python3.9/site-packages (from yahooquery) (1.4.2)\nRequirement already satisfied: tqdm>=4.54.1 in /local_disk0/.ephemeral_nfs/envs/pythonEnv-71ca5434-e050-4a03-a118-e441b4615bdf/lib/python3.9/site-packages (from yahooquery) (4.65.0)\nRequirement already satisfied: requests-futures>=1.0.0 in /local_disk0/.ephemeral_nfs/envs/pythonEnv-71ca5434-e050-4a03-a118-e441b4615bdf/lib/python3.9/site-packages (from yahooquery) (1.0.0)\nRequirement already satisfied: lxml>=4.9.1 in /local_disk0/.ephemeral_nfs/envs/pythonEnv-71ca5434-e050-4a03-a118-e441b4615bdf/lib/python3.9/site-packages (from yahooquery) (4.9.2)\nRequirement already satisfied: python-dateutil>=2.8.1 in /databricks/python3/lib/python3.9/site-packages (from pandas>=0.24.0->yahooquery) (2.8.2)\nRequirement already satisfied: pytz>=2020.1 in /databricks/python3/lib/python3.9/site-packages (from pandas>=0.24.0->yahooquery) (2021.3)\nRequirement already satisfied: numpy>=1.18.5 in /databricks/python3/lib/python3.9/site-packages (from pandas>=0.24.0->yahooquery) (1.21.5)\nRequirement already satisfied: six>=1.5 in /databricks/python3/lib/python3.9/site-packages (from python-dateutil>=2.8.1->pandas>=0.24.0->yahooquery) (1.16.0)\nRequirement already satisfied: requests>=1.2.0 in /databricks/python3/lib/python3.9/site-packages (from requests-futures>=1.0.0->yahooquery) (2.27.1)\nRequirement already satisfied: idna<4,>=2.5 in /databricks/python3/lib/python3.9/site-packages (from requests>=1.2.0->requests-futures>=1.0.0->yahooquery) (3.3)\nRequirement already satisfied: charset-normalizer~=2.0.0 in /databricks/python3/lib/python3.9/site-packages (from requests>=1.2.0->requests-futures>=1.0.0->yahooquery) (2.0.4)\nRequirement already satisfied: urllib3<1.27,>=1.21.1 in /databricks/python3/lib/python3.9/site-packages (from requests>=1.2.0->requests-futures>=1.0.0->yahooquery) (1.26.9)\nRequirement already satisfied: certifi>=2017.4.17 in /databricks/python3/lib/python3.9/site-packages (from requests>=1.2.0->requests-futures>=1.0.0->yahooquery) (2021.10.8)\nPython interpreter will be restarted.\n"
     ]
    }
   ],
   "source": [
    "%pip install yahooquery"
   ]
  },
  {
   "cell_type": "code",
   "execution_count": 0,
   "metadata": {
    "application/vnd.databricks.v1+cell": {
     "cellMetadata": {
      "byteLimit": 2048000,
      "rowLimit": 10000
     },
     "inputWidgets": {},
     "nuid": "c59c8fb4-c3fd-41b4-a0ad-bc11eafc28c3",
     "showTitle": false,
     "title": ""
    },
    "collapsed": true
   },
   "outputs": [
    {
     "output_type": "display_data",
     "data": {
      "application/vnd.databricks.v1+bamboolib_hint": "{\"pd.DataFrames\": [], \"version\": \"0.0.1\"}",
      "text/plain": []
     },
     "metadata": {},
     "output_type": "display_data"
    }
   ],
   "source": [
    "import pandas as pd\n",
    "import pickle\n",
    "import requests\n",
    "import numpy as np\n",
    "from yahooquery import Ticker\n",
    "import datetime\n",
    "from datetime import date\n",
    "import urllib.request\n",
    "import sys\n",
    "import json\n",
    "import warnings\n",
    "warnings.filterwarnings('ignore')\n",
    "pd.set_option('display.max_rows', None)\n",
    "pd.set_option('display.max_columns', None)\n",
    "import re"
   ]
  },
  {
   "cell_type": "code",
   "execution_count": 0,
   "metadata": {
    "application/vnd.databricks.v1+cell": {
     "cellMetadata": {
      "byteLimit": 2048000,
      "rowLimit": 10000
     },
     "inputWidgets": {},
     "nuid": "bde075eb-d752-46ce-aff1-6cebea6d03e0",
     "showTitle": false,
     "title": ""
    }
   },
   "outputs": [],
   "source": [
    "%run \"/Shared/WeatherWatts/config/kafka keys\""
   ]
  },
  {
   "cell_type": "code",
   "execution_count": 0,
   "metadata": {
    "application/vnd.databricks.v1+cell": {
     "cellMetadata": {
      "byteLimit": 2048000,
      "rowLimit": 10000
     },
     "inputWidgets": {},
     "nuid": "46acfbeb-db27-4ae3-b653-ea1e57620ac1",
     "showTitle": false,
     "title": ""
    }
   },
   "outputs": [],
   "source": [
    "%run \"/Shared/WeatherWatts/config/api keys\""
   ]
  },
  {
   "cell_type": "code",
   "execution_count": 0,
   "metadata": {
    "application/vnd.databricks.v1+cell": {
     "cellMetadata": {
      "byteLimit": 2048000,
      "rowLimit": 10000
     },
     "inputWidgets": {},
     "nuid": "950588f8-72f5-466f-a2d5-04923f43b4cc",
     "showTitle": false,
     "title": ""
    },
    "collapsed": false,
    "pycharm": {
     "name": "#%%\n"
    }
   },
   "outputs": [],
   "source": [
    "delta1 = datetime.timedelta(days=2)\n",
    "delta2  =datetime.timedelta(days=4)\n",
    "delta3 = datetime.timedelta(days=-3)\n",
    "delta4 = datetime.timedelta(days=1)\n",
    "delta5 = datetime.timedelta(days=3)\n",
    "today = date.today()\n",
    "one_day_ahead = today + delta4\n",
    "two_day_ahead = today + delta1\n",
    "four_days_ahead = today + delta2\n",
    "three_days_behind = today +delta3\n",
    "three_days_ahead = today + delta5"
   ]
  },
  {
   "cell_type": "code",
   "execution_count": 0,
   "metadata": {
    "application/vnd.databricks.v1+cell": {
     "cellMetadata": {
      "byteLimit": 2048000,
      "rowLimit": 10000
     },
     "inputWidgets": {},
     "nuid": "6c5104e2-bcb5-4caa-9276-43dc04c20ef1",
     "showTitle": false,
     "title": ""
    },
    "collapsed": false,
    "pycharm": {
     "name": "#%%\n"
    }
   },
   "outputs": [],
   "source": [
    "holidays = spark.read.csv('/mnt/weatherwatts/holiday.csv', header=True)"
   ]
  },
  {
   "cell_type": "code",
   "execution_count": 0,
   "metadata": {
    "application/vnd.databricks.v1+cell": {
     "cellMetadata": {
      "byteLimit": 2048000,
      "rowLimit": 10000
     },
     "inputWidgets": {},
     "nuid": "2aaf3407-d34d-4fc8-8e9d-e63bb9680022",
     "showTitle": false,
     "title": ""
    }
   },
   "outputs": [],
   "source": [
    "holidays = holidays.toPandas()"
   ]
  },
  {
   "cell_type": "code",
   "execution_count": 0,
   "metadata": {
    "application/vnd.databricks.v1+cell": {
     "cellMetadata": {
      "byteLimit": 2048000,
      "rowLimit": 10000
     },
     "inputWidgets": {},
     "nuid": "fc6668c5-c595-4ae1-8672-31554400be3b",
     "showTitle": false,
     "title": ""
    },
    "collapsed": false,
    "pycharm": {
     "name": "#%%\n"
    }
   },
   "outputs": [],
   "source": [
    "ticker = Ticker('XLF')"
   ]
  },
  {
   "cell_type": "code",
   "execution_count": 0,
   "metadata": {
    "application/vnd.databricks.v1+cell": {
     "cellMetadata": {
      "byteLimit": 2048000,
      "rowLimit": 10000
     },
     "inputWidgets": {},
     "nuid": "2c586ca5-731e-4eb5-87a9-ac5740be7a22",
     "showTitle": false,
     "title": ""
    },
    "collapsed": false,
    "pycharm": {
     "name": "#%%\n"
    }
   },
   "outputs": [],
   "source": [
    "XLE = ticker.history(period='3mo', interval='1d', adj_timezone=False)['adjclose'].unstack().T"
   ]
  },
  {
   "cell_type": "code",
   "execution_count": 0,
   "metadata": {
    "application/vnd.databricks.v1+cell": {
     "cellMetadata": {
      "byteLimit": 2048000,
      "rowLimit": 10000
     },
     "inputWidgets": {},
     "nuid": "d64cc0ce-0cb7-4dd5-b26e-c1b62cdbecea",
     "showTitle": false,
     "title": ""
    },
    "collapsed": false,
    "pycharm": {
     "name": "#%%\n"
    }
   },
   "outputs": [],
   "source": [
    "future = pd.date_range(str(one_day_ahead), str(four_days_ahead), freq='1d', tz='UTC')"
   ]
  },
  {
   "cell_type": "code",
   "execution_count": 0,
   "metadata": {
    "application/vnd.databricks.v1+cell": {
     "cellMetadata": {
      "byteLimit": 2048000,
      "rowLimit": 10000
     },
     "inputWidgets": {},
     "nuid": "071ff4d5-b90a-49a2-9834-7f5d66b9dd33",
     "showTitle": false,
     "title": ""
    },
    "collapsed": false,
    "pycharm": {
     "name": "#%%\n"
    }
   },
   "outputs": [],
   "source": [
    "future_df = pd.DataFrame(index=future)"
   ]
  },
  {
   "cell_type": "code",
   "execution_count": 0,
   "metadata": {
    "application/vnd.databricks.v1+cell": {
     "cellMetadata": {
      "byteLimit": 2048000,
      "rowLimit": 10000
     },
     "inputWidgets": {},
     "nuid": "6597c511-9126-4ee9-819e-756628e89f56",
     "showTitle": false,
     "title": ""
    },
    "collapsed": false,
    "pycharm": {
     "name": "#%%\n"
    }
   },
   "outputs": [],
   "source": [
    "XLE = pd.concat([XLE, future_df])"
   ]
  },
  {
   "cell_type": "code",
   "execution_count": 0,
   "metadata": {
    "application/vnd.databricks.v1+cell": {
     "cellMetadata": {
      "byteLimit": 2048000,
      "rowLimit": 10000
     },
     "inputWidgets": {},
     "nuid": "829da353-dbab-435b-8153-136c0a659b25",
     "showTitle": false,
     "title": ""
    },
    "collapsed": false,
    "pycharm": {
     "name": "#%%\n"
    }
   },
   "outputs": [],
   "source": [
    "from datetime import date\n",
    "XLE.index = pd.to_datetime(XLE.index, utc=True)\n",
    "XLE['year'] = XLE.index.year\n",
    "XLE['dayofyear'] =XLE.index.dayofyear"
   ]
  },
  {
   "cell_type": "code",
   "execution_count": 0,
   "metadata": {
    "application/vnd.databricks.v1+cell": {
     "cellMetadata": {
      "byteLimit": 2048000,
      "rowLimit": 10000
     },
     "inputWidgets": {},
     "nuid": "83bca36f-8147-4c71-9d4e-2b3f6c7b46a2",
     "showTitle": false,
     "title": ""
    },
    "collapsed": false,
    "pycharm": {
     "name": "#%%\n"
    }
   },
   "outputs": [],
   "source": [
    "XLE.rename(columns={'XLF':'Adj Close'}, inplace=True)"
   ]
  },
  {
   "cell_type": "code",
   "execution_count": 0,
   "metadata": {
    "application/vnd.databricks.v1+cell": {
     "cellMetadata": {
      "byteLimit": 2048000,
      "rowLimit": 10000
     },
     "inputWidgets": {},
     "nuid": "d4c733b0-5a6d-4534-8ce7-2e1bae4658fa",
     "showTitle": false,
     "title": ""
    },
    "collapsed": false,
    "pycharm": {
     "name": "#%%\n"
    }
   },
   "outputs": [],
   "source": [
    "XLE['Adj_Close_3D_lag'] = XLE['Adj Close'].shift(freq='3D')\n",
    "XLE['Adj_Close_30D_lag'] = XLE['Adj Close'].shift(freq='28D')\n",
    "XLE['Adj_Close_60D_lag'] = XLE['Adj Close'].shift(freq='56D')\n",
    "XLE['Adj_Close_30D_lag'] = XLE['Adj_Close_30D_lag'].ffill()\n",
    "XLE['Adj_Close_60D_lag'] = XLE['Adj_Close_60D_lag'].ffill()\n",
    "XLE['Adj_Close_3D_lag'] = XLE['Adj_Close_3D_lag'].ffill()\n"
   ]
  },
  {
   "cell_type": "code",
   "execution_count": 0,
   "metadata": {
    "application/vnd.databricks.v1+cell": {
     "cellMetadata": {
      "byteLimit": 2048000,
      "rowLimit": 10000
     },
     "inputWidgets": {},
     "nuid": "0457ecf9-48e5-45a4-a345-edf6864492a0",
     "showTitle": false,
     "title": ""
    },
    "collapsed": false,
    "pycharm": {
     "name": "#%%\n"
    }
   },
   "outputs": [],
   "source": [
    "locations2 = ['Los%20Angeles', 'Tampa', 'Austin','new%20york%20city']"
   ]
  },
  {
   "cell_type": "code",
   "execution_count": 0,
   "metadata": {
    "application/vnd.databricks.v1+cell": {
     "cellMetadata": {
      "byteLimit": 2048000,
      "rowLimit": 10000
     },
     "inputWidgets": {},
     "nuid": "c42119bf-24f3-4ad3-ace0-f396fb1f20ab",
     "showTitle": false,
     "title": ""
    },
    "collapsed": false,
    "pycharm": {
     "name": "#%%\n"
    }
   },
   "outputs": [],
   "source": [
    "weather_df = pd.DataFrame()\n",
    "try:\n",
    "    for loc in locations2:\n",
    "        ResultBytes = urllib.request.urlopen(f\"https://weather.visualcrossing.com/VisualCrossingWebServices/\"\n",
    "                                             f\"rest/services/timeline/{loc}/{three_days_behind}/{four_days_ahead}?\"\n",
    "                                             f\"unitGroup=us&include=fcst%2Chours%2Cobs&\"\n",
    "                                             f\"key={w_key}&contentType=json\")\n",
    "\n",
    "      # Parse the results as JSON\n",
    "        jsonData = json.load(ResultBytes)\n",
    "        for i in range(len(jsonData['days'])):\n",
    "            day = pd.DataFrame(jsonData['days'][i]['hours'])\n",
    "            day['name'] = loc.replace('%20',' ')\n",
    "            weather_df = pd.concat([weather_df,day])\n",
    "\n",
    "except urllib.error.HTTPError  as e:\n",
    "  ErrorInfo= e.read().decode()\n",
    "  print('Error code: ', e.code, ErrorInfo)\n",
    "  sys.exit()\n",
    "except  urllib.error.URLError as e:\n",
    "  ErrorInfo= e.read().decode()\n",
    "  print('Error code: ', e.code,ErrorInfo)\n",
    "  sys.exit()"
   ]
  },
  {
   "cell_type": "code",
   "execution_count": 0,
   "metadata": {
    "application/vnd.databricks.v1+cell": {
     "cellMetadata": {
      "byteLimit": 2048000,
      "rowLimit": 10000
     },
     "inputWidgets": {},
     "nuid": "52dcaab3-7670-4cfd-bfcd-c225ca8b2fac",
     "showTitle": false,
     "title": ""
    },
    "collapsed": false,
    "pycharm": {
     "name": "#%%\n"
    }
   },
   "outputs": [],
   "source": [
    "locations =[ \"CISO\", \"ERCO\",\"NYIS\",\"FLA\"]"
   ]
  },
  {
   "cell_type": "code",
   "execution_count": 0,
   "metadata": {
    "application/vnd.databricks.v1+cell": {
     "cellMetadata": {
      "byteLimit": 2048000,
      "rowLimit": 10000
     },
     "inputWidgets": {},
     "nuid": "d878ddaf-bf3b-4ecd-ab1c-f6dc70dd318f",
     "showTitle": false,
     "title": ""
    },
    "collapsed": false,
    "pycharm": {
     "name": "#%%\n"
    }
   },
   "outputs": [],
   "source": [
    "def json_to_dateframe(response):\n",
    "    return pd.DataFrame(response.json()['response']['data'][1:], columns= response.json()['response']['data'][0])"
   ]
  },
  {
   "cell_type": "code",
   "execution_count": 0,
   "metadata": {
    "application/vnd.databricks.v1+cell": {
     "cellMetadata": {
      "byteLimit": 2048000,
      "rowLimit": 10000
     },
     "inputWidgets": {},
     "nuid": "3ac5cf61-4e42-4518-aad3-d9f6dc276007",
     "showTitle": false,
     "title": ""
    },
    "collapsed": false,
    "pycharm": {
     "name": "#%%\n"
    }
   },
   "outputs": [],
   "source": [
    "from time import sleep\n",
    "energy = pd.DataFrame()\n",
    "for loc in locations:\n",
    "    try:\n",
    "        url = f'https://api.eia.gov/v2/electricity/rto/region-data/data/?frequency=hourly&data[0]=value&facets[respondent][]={loc}&facets[type][]=D&facets[type][]=NG&start={str(three_days_behind)}T00&end={str(today)}T00&sort[0][column]=period&sort[0][direction]=desc&offset=0&length=5000&api_key={key}'\n",
    "        response = requests.get(url)\n",
    "        df = json_to_dateframe(response)\n",
    "        energy = pd.concat([energy, df])\n",
    "    except:\n",
    "        print('error')"
   ]
  },
  {
   "cell_type": "code",
   "execution_count": 0,
   "metadata": {
    "application/vnd.databricks.v1+cell": {
     "cellMetadata": {
      "byteLimit": 2048000,
      "rowLimit": 10000
     },
     "inputWidgets": {},
     "nuid": "2ebd3db5-5aac-4d48-bf7c-9d7f61e0c7ea",
     "showTitle": false,
     "title": ""
    },
    "collapsed": false,
    "pycharm": {
     "name": "#%%\n"
    }
   },
   "outputs": [],
   "source": [
    "demand = energy.query(\"type == 'D' \")"
   ]
  },
  {
   "cell_type": "code",
   "execution_count": 0,
   "metadata": {
    "application/vnd.databricks.v1+cell": {
     "cellMetadata": {
      "byteLimit": 2048000,
      "rowLimit": 10000
     },
     "inputWidgets": {},
     "nuid": "ca91adde-ead1-477a-9058-adda97a53378",
     "showTitle": false,
     "title": ""
    },
    "collapsed": false,
    "pycharm": {
     "name": "#%%\n"
    }
   },
   "outputs": [],
   "source": [
    "demand['respondent-name'] = demand['respondent-name'].replace('Florida', 'Florida Power and Light').copy()\n",
    "demand['period'] = pd.to_datetime(demand.period)\n",
    "demand['period'] = pd.to_datetime(demand.period)"
   ]
  },
  {
   "cell_type": "code",
   "execution_count": 0,
   "metadata": {
    "application/vnd.databricks.v1+cell": {
     "cellMetadata": {
      "byteLimit": 2048000,
      "rowLimit": 10000
     },
     "inputWidgets": {},
     "nuid": "b8db5d7c-2966-44e4-9a5e-ce801333383a",
     "showTitle": false,
     "title": ""
    },
    "collapsed": false,
    "pycharm": {
     "name": "#%%\n"
    }
   },
   "outputs": [],
   "source": [
    "respondents =['Electric Reliability Council of Texas, Inc.' ,\n",
    "              'New York Independent System Operator',\n",
    "              'Florida Power and Light' ,\n",
    "               'California Independent System Operator',]"
   ]
  },
  {
   "cell_type": "code",
   "execution_count": 0,
   "metadata": {
    "application/vnd.databricks.v1+cell": {
     "cellMetadata": {
      "byteLimit": 2048000,
      "rowLimit": 10000
     },
     "inputWidgets": {},
     "nuid": "f94fac52-99b4-4b72-86c4-f44bff776283",
     "showTitle": false,
     "title": ""
    },
    "collapsed": false,
    "pycharm": {
     "name": "#%%\n"
    }
   },
   "outputs": [],
   "source": [
    "demand['name'] = demand['respondent-name']"
   ]
  },
  {
   "cell_type": "code",
   "execution_count": 0,
   "metadata": {
    "application/vnd.databricks.v1+cell": {
     "cellMetadata": {
      "byteLimit": 2048000,
      "rowLimit": 10000
     },
     "inputWidgets": {},
     "nuid": "941dba3c-2123-4ac6-98cb-04563ff815b5",
     "showTitle": false,
     "title": ""
    },
    "collapsed": false,
    "pycharm": {
     "name": "#%%\n"
    }
   },
   "outputs": [],
   "source": [
    "demand['name'] = demand['name'].replace(respondents[3], 'Los Angeles')\n",
    "demand['name'] = demand['name'].replace(respondents[2], 'Tampa')\n",
    "demand['name'] = demand['name'].replace(respondents[0], 'Austin')\n",
    "demand['name'] = demand['name'].replace(respondents[1], 'new york city')"
   ]
  },
  {
   "cell_type": "code",
   "execution_count": 0,
   "metadata": {
    "application/vnd.databricks.v1+cell": {
     "cellMetadata": {
      "byteLimit": 2048000,
      "rowLimit": 10000
     },
     "inputWidgets": {},
     "nuid": "58090278-7668-41ad-a590-231135fd9dcc",
     "showTitle": false,
     "title": ""
    },
    "collapsed": false,
    "pycharm": {
     "name": "#%%\n"
    }
   },
   "outputs": [],
   "source": [
    "weather_df['period'] = pd.to_datetime(weather_df.datetimeEpoch, unit='s')"
   ]
  },
  {
   "cell_type": "code",
   "execution_count": 0,
   "metadata": {
    "application/vnd.databricks.v1+cell": {
     "cellMetadata": {
      "byteLimit": 2048000,
      "rowLimit": 10000
     },
     "inputWidgets": {},
     "nuid": "e816d43f-93f7-406d-b6aa-d1216aee45ca",
     "showTitle": false,
     "title": ""
    },
    "collapsed": false,
    "pycharm": {
     "name": "#%%\n"
    }
   },
   "outputs": [],
   "source": [
    "demand_weather = pd.merge(demand,weather_df, how='right', on=['name','period'],suffixes=('','2'))\n",
    "demand_weather = demand_weather.set_index(demand_weather.period)\n",
    "demand_weather= demand_weather.drop(columns=['type','type-name','datetime','datetimeEpoch','stations','solarenergy','source','severerisk','preciptype','windgust','value-units','respondent','icon','conditions'])"
   ]
  },
  {
   "cell_type": "code",
   "execution_count": 0,
   "metadata": {
    "application/vnd.databricks.v1+cell": {
     "cellMetadata": {
      "byteLimit": 2048000,
      "rowLimit": 10000
     },
     "inputWidgets": {},
     "nuid": "c92254ef-914d-4c54-88db-b51fce9b8bd1",
     "showTitle": false,
     "title": ""
    },
    "collapsed": false,
    "pycharm": {
     "name": "#%%\n"
    }
   },
   "outputs": [],
   "source": [
    "demand_weather['year'] = demand_weather.index.year\n",
    "demand_weather['month'] = demand_weather.index.month\n",
    "demand_weather['days'] = demand_weather.index.dayofweek\n",
    "demand_weather['hour'] = demand_weather.index.hour\n",
    "demand_weather['quarter'] = demand_weather.index.quarter\n",
    "demand_weather['dayofyear'] = demand_weather.index.dayofyear\n",
    "demand_weather[\"Is Weekend\"] = demand_weather.index.day_name().isin(['Saturday', 'Sunday'])"
   ]
  },
  {
   "cell_type": "code",
   "execution_count": 0,
   "metadata": {
    "application/vnd.databricks.v1+cell": {
     "cellMetadata": {
      "byteLimit": 2048000,
      "rowLimit": 10000
     },
     "inputWidgets": {},
     "nuid": "a89cc4a5-2341-4526-8f49-d36247635957",
     "showTitle": false,
     "title": ""
    },
    "collapsed": false,
    "pycharm": {
     "name": "#%%\n"
    }
   },
   "outputs": [],
   "source": [
    "demand_weather = pd.merge(demand_weather,XLE.iloc[:,1:],how='left', on=['year','dayofyear'])"
   ]
  },
  {
   "cell_type": "code",
   "execution_count": 0,
   "metadata": {
    "application/vnd.databricks.v1+cell": {
     "cellMetadata": {
      "byteLimit": 2048000,
      "rowLimit": 10000
     },
     "inputWidgets": {},
     "nuid": "ff000585-0980-4a73-b5de-1e25d96c0ea5",
     "showTitle": false,
     "title": ""
    }
   },
   "outputs": [],
   "source": [
    "holidays['year'] = holidays['year'].astype('int')\n",
    "holidays['dayofyear'] = holidays['dayofyear'].astype('int')"
   ]
  },
  {
   "cell_type": "code",
   "execution_count": 0,
   "metadata": {
    "application/vnd.databricks.v1+cell": {
     "cellMetadata": {
      "byteLimit": 2048000,
      "rowLimit": 10000
     },
     "inputWidgets": {},
     "nuid": "1e66032c-b742-42a1-a157-359464fbe59d",
     "showTitle": false,
     "title": ""
    },
    "collapsed": false,
    "pycharm": {
     "name": "#%%\n"
    }
   },
   "outputs": [],
   "source": [
    "holidays =holidays.drop('Date',axis=1)\n",
    "demand_weather = pd.merge(demand_weather,holidays, how='outer', on=['year','dayofyear'])"
   ]
  },
  {
   "cell_type": "code",
   "execution_count": 0,
   "metadata": {
    "application/vnd.databricks.v1+cell": {
     "cellMetadata": {
      "byteLimit": 2048000,
      "rowLimit": 10000
     },
     "inputWidgets": {},
     "nuid": "aaf3e8cd-105c-4ce1-85a3-6052576b4079",
     "showTitle": false,
     "title": ""
    },
    "collapsed": false,
    "pycharm": {
     "name": "#%%\n"
    }
   },
   "outputs": [],
   "source": [
    "demand_weather['solarradiation'] = demand_weather['solarradiation'].bfill()\n",
    "demand_weather['uvindex'] = demand_weather['uvindex'].bfill()\n",
    "demand_weather['snow'] = demand_weather['snow'].bfill()"
   ]
  },
  {
   "cell_type": "code",
   "execution_count": 0,
   "metadata": {
    "application/vnd.databricks.v1+cell": {
     "cellMetadata": {
      "byteLimit": 2048000,
      "rowLimit": 10000
     },
     "inputWidgets": {},
     "nuid": "25e96a29-daf6-4e06-a3e0-bbde611bbb82",
     "showTitle": false,
     "title": ""
    },
    "collapsed": false,
    "pycharm": {
     "name": "#%%\n"
    }
   },
   "outputs": [],
   "source": [
    "demand_weather.loc[demand_weather['name'] == 'Los Angeles', 'respondent-name'] = 'California Independent System Operator'\n",
    "demand_weather.loc[demand_weather['name'] == 'new york city', 'respondent-name'] = 'New York Independent System Operator'\n",
    "demand_weather.loc[demand_weather['name'] == 'Tampa', 'respondent-name'] = 'Florida Power and Light'\n",
    "demand_weather.loc[demand_weather['name'] == 'Austin', 'respondent-name'] = 'Electric Reliability Council of Texas, Inc.'"
   ]
  },
  {
   "cell_type": "code",
   "execution_count": 0,
   "metadata": {
    "application/vnd.databricks.v1+cell": {
     "cellMetadata": {
      "byteLimit": 2048000,
      "rowLimit": 10000
     },
     "inputWidgets": {},
     "nuid": "c8aae0ec-f54f-4ca2-b74c-4e0a3419b3cb",
     "showTitle": false,
     "title": ""
    },
    "collapsed": false,
    "pycharm": {
     "name": "#%%\n"
    }
   },
   "outputs": [],
   "source": [
    "demand_weather = demand_weather.set_index('period')\n",
    "demand_weather.index = pd.to_datetime(demand_weather.index)\n",
    "demand_weather.rename(columns={'respondent-name':'respondent','pressure': 'sealevelevelpressure'}, inplace=True)"
   ]
  },
  {
   "cell_type": "code",
   "execution_count": 0,
   "metadata": {
    "application/vnd.databricks.v1+cell": {
     "cellMetadata": {
      "byteLimit": 2048000,
      "rowLimit": 10000
     },
     "inputWidgets": {},
     "nuid": "c75bb399-050c-44dc-92c4-a9362e249db4",
     "showTitle": false,
     "title": ""
    },
    "collapsed": false,
    "pycharm": {
     "name": "#%%\n"
    }
   },
   "outputs": [],
   "source": [
    "demand_weather = pd.get_dummies(demand_weather, columns=['Holiday','Is Weekend'], drop_first=True, dtype=float)\n",
    "new_names = {col: re.sub(r'[^A-Za-z0-9_]+', '', col) for col in demand_weather.columns}\n",
    "new_n_list = list(new_names.values())\n",
    "# [LightGBM] Feature appears more than one time.\n",
    "new_names = {col: f'{new_col}_{i}' if new_col in new_n_list[:i] else new_col for i, (col, new_col) in enumerate(new_names.items())}\n",
    "demand_weather = demand_weather.rename(columns=new_names)"
   ]
  },
  {
   "cell_type": "code",
   "execution_count": 0,
   "metadata": {
    "application/vnd.databricks.v1+cell": {
     "cellMetadata": {
      "byteLimit": 2048000,
      "rowLimit": 10000
     },
     "inputWidgets": {},
     "nuid": "8d111849-03c1-43f2-a0ee-90ed67e55f71",
     "showTitle": false,
     "title": ""
    },
    "collapsed": false,
    "pycharm": {
     "name": "#%%\n"
    }
   },
   "outputs": [],
   "source": [
    "NY = demand_weather.query(\"respondent== 'New York Independent System Operator'\")\n",
    "FL = demand_weather.query(\"respondent == 'Florida Power and Light'\")\n",
    "CA = demand_weather.query(\"respondent ==  'California Independent System Operator'\")\n",
    "TX = demand_weather.query(\"respondent ==  'Electric Reliability Council of Texas, Inc.'\")"
   ]
  },
  {
   "cell_type": "code",
   "execution_count": 0,
   "metadata": {
    "application/vnd.databricks.v1+cell": {
     "cellMetadata": {
      "byteLimit": 2048000,
      "rowLimit": 10000
     },
     "inputWidgets": {},
     "nuid": "e85d292d-46cd-4477-bb29-b1e2f2288199",
     "showTitle": false,
     "title": ""
    },
    "collapsed": false,
    "pycharm": {
     "name": "#%%\n"
    }
   },
   "outputs": [],
   "source": [
    "TX = TX[~TX.index.duplicated(keep='first')]\n",
    "NY = NY[~NY.index.duplicated(keep='first')]\n",
    "CA = CA[~CA.index.duplicated(keep='first')]\n",
    "FL = FL[~FL.index.duplicated(keep='first')]"
   ]
  },
  {
   "cell_type": "code",
   "execution_count": 0,
   "metadata": {
    "application/vnd.databricks.v1+cell": {
     "cellMetadata": {
      "byteLimit": 2048000,
      "rowLimit": 10000
     },
     "inputWidgets": {},
     "nuid": "96a0d9ad-4020-480c-8a88-8a8988d6ebbf",
     "showTitle": false,
     "title": ""
    },
    "collapsed": false,
    "pycharm": {
     "name": "#%%\n"
    }
   },
   "outputs": [],
   "source": [
    "NY['demand_3d_lag'] = NY['value'].shift(96, freq='h')\n",
    "FL['demand_3d_lag'] = FL['value'].shift(96, freq='h')\n",
    "CA['demand_3d_lag'] = CA['value'].shift(96, freq='h')\n",
    "TX['demand_3d_lag'] = TX['value'].shift(96, freq='h')"
   ]
  },
  {
   "cell_type": "code",
   "execution_count": 0,
   "metadata": {
    "application/vnd.databricks.v1+cell": {
     "cellMetadata": {
      "byteLimit": 2048000,
      "rowLimit": 10000
     },
     "inputWidgets": {},
     "nuid": "b1f3df31-5990-40cc-a873-d96104ad1aec",
     "showTitle": false,
     "title": ""
    },
    "collapsed": false,
    "pycharm": {
     "name": "#%%\n"
    }
   },
   "outputs": [],
   "source": [
    "NY['Temp_24_hours_ahead'] = NY['temp'].shift(-24, freq='h')\n",
    "FL['Temp_24_hours_ahead'] = FL['temp'].shift(-24 ,freq='h')\n",
    "CA['Temp_24_hours_ahead'] = CA['temp'].shift(-24, freq='h')\n",
    "TX['Temp_24_hours_ahead'] = TX['temp'].shift(-24, freq='h')"
   ]
  },
  {
   "cell_type": "code",
   "execution_count": 0,
   "metadata": {
    "application/vnd.databricks.v1+cell": {
     "cellMetadata": {
      "byteLimit": 2048000,
      "rowLimit": 10000
     },
     "inputWidgets": {},
     "nuid": "de31b25a-d850-4a73-91a4-050f34137f41",
     "showTitle": false,
     "title": ""
    },
    "collapsed": false,
    "pycharm": {
     "name": "#%%\n"
    }
   },
   "outputs": [],
   "source": [
    "# TX  = TX.iloc[(TX.index >= str(today)) & (TX.index <= str(four_days_ahead))]\n",
    "# NY  = NY.iloc[(NY.index >= str(today)) & (NY.index <= str(four_days_ahead))]\n",
    "# CA  = CA.iloc[(CA.index >= str(today)) & (CA.index <= str(four_days_ahead))]\n",
    "# FL  = FL.iloc[(FL.index >= str(today)) & (FL.index <= str(four_days_ahead))]"
   ]
  },
  {
   "cell_type": "code",
   "execution_count": 0,
   "metadata": {
    "application/vnd.databricks.v1+cell": {
     "cellMetadata": {
      "byteLimit": 2048000,
      "rowLimit": 10000
     },
     "inputWidgets": {},
     "nuid": "edecc4cb-b8a6-43d1-a5d1-c959f40cc07f",
     "showTitle": false,
     "title": ""
    }
   },
   "outputs": [],
   "source": [
    "TX= TX.iloc[(TX.index > str(three_days_ahead))][:24]\n",
    "NY= NY.iloc[(NY.index > str(three_days_ahead))][:24]\n",
    "CA= CA.iloc[(CA.index > str(three_days_ahead))][:24]\n",
    "FL= FL.iloc[(FL.index > str(three_days_ahead))][:24]"
   ]
  },
  {
   "cell_type": "code",
   "execution_count": 0,
   "metadata": {
    "application/vnd.databricks.v1+cell": {
     "cellMetadata": {
      "byteLimit": 2048000,
      "rowLimit": 10000
     },
     "inputWidgets": {},
     "nuid": "907c95a6-6406-4bc8-9571-5bac583bffeb",
     "showTitle": false,
     "title": ""
    },
    "collapsed": false,
    "pycharm": {
     "name": "#%%\n"
    }
   },
   "outputs": [],
   "source": [
    "Features = TX.columns[3:]"
   ]
  },
  {
   "cell_type": "code",
   "execution_count": 0,
   "metadata": {
    "application/vnd.databricks.v1+cell": {
     "cellMetadata": {
      "byteLimit": 2048000,
      "rowLimit": 10000
     },
     "inputWidgets": {},
     "nuid": "8272a6f6-1d67-4da7-8275-5b15a062b38e",
     "showTitle": false,
     "title": ""
    },
    "collapsed": false,
    "pycharm": {
     "name": "#%%\n"
    }
   },
   "outputs": [],
   "source": [
    "TX_X = TX[Features]\n",
    "NY_X = NY[Features]\n",
    "CA_X = CA[Features]\n",
    "FL_X = FL[Features]"
   ]
  },
  {
   "cell_type": "code",
   "execution_count": 0,
   "metadata": {
    "application/vnd.databricks.v1+cell": {
     "cellMetadata": {
      "byteLimit": 2048000,
      "rowLimit": 10000
     },
     "inputWidgets": {},
     "nuid": "65f1620e-04c7-481b-a617-c1cba0b1730b",
     "showTitle": false,
     "title": ""
    },
    "collapsed": false,
    "pycharm": {
     "name": "#%%\n"
    }
   },
   "outputs": [],
   "source": [
    "TX_X = TX_X.ffill()\n",
    "NY_X = NY_X.ffill()\n",
    "CA_X = CA_X.ffill()\n",
    "FL_X = FL_X.ffill()"
   ]
  },
  {
   "cell_type": "code",
   "execution_count": 0,
   "metadata": {
    "application/vnd.databricks.v1+cell": {
     "cellMetadata": {
      "byteLimit": 2048000,
      "rowLimit": 10000
     },
     "inputWidgets": {},
     "nuid": "426be84f-6c3f-4e3e-ab24-0a16ab30bc94",
     "showTitle": false,
     "title": ""
    },
    "collapsed": false,
    "pycharm": {
     "name": "#%%\n"
    }
   },
   "outputs": [],
   "source": [
    "TX_X = TX_X.dropna(subset=['demand_3d_lag'])\n",
    "NY_X = NY_X.dropna(subset=['demand_3d_lag'])\n",
    "CA_X = CA_X.dropna(subset=['demand_3d_lag'])\n",
    "FL_X = FL_X.dropna(subset=['demand_3d_lag'])"
   ]
  },
  {
   "cell_type": "code",
   "execution_count": 0,
   "metadata": {
    "application/vnd.databricks.v1+cell": {
     "cellMetadata": {
      "byteLimit": 2048000,
      "rowLimit": 10000
     },
     "inputWidgets": {},
     "nuid": "a91f7ab0-3568-4e70-ab96-1e40842dbfbd",
     "showTitle": false,
     "title": ""
    }
   },
   "outputs": [],
   "source": [
    "TX_X['State'] = 'TX'\n",
    "NY_X['State'] = 'NY'\n",
    "CA_X['State'] = 'CA'\n",
    "FL_X['State'] = 'FL'"
   ]
  },
  {
   "cell_type": "code",
   "execution_count": 0,
   "metadata": {
    "application/vnd.databricks.v1+cell": {
     "cellMetadata": {
      "byteLimit": 2048000,
      "rowLimit": 10000
     },
     "inputWidgets": {},
     "nuid": "e2eb1a26-cdb6-401f-a634-448a3bec3143",
     "showTitle": false,
     "title": ""
    }
   },
   "outputs": [],
   "source": [
    "final_df = pd.concat([TX_X,NY_X,FL_X,CA_X])"
   ]
  },
  {
   "cell_type": "code",
   "execution_count": 0,
   "metadata": {
    "application/vnd.databricks.v1+cell": {
     "cellMetadata": {
      "byteLimit": 2048000,
      "rowLimit": 10000
     },
     "inputWidgets": {},
     "nuid": "2f395006-fb1d-43da-afd9-55d33200574d",
     "showTitle": false,
     "title": ""
    }
   },
   "outputs": [],
   "source": [
    "final_df['Date'] = final_df.index"
   ]
  },
  {
   "cell_type": "code",
   "execution_count": 0,
   "metadata": {
    "application/vnd.databricks.v1+cell": {
     "cellMetadata": {
      "byteLimit": 2048000,
      "rowLimit": 10000
     },
     "inputWidgets": {},
     "nuid": "4bc15bf1-5fc5-472c-84f0-73a7c7f4a853",
     "showTitle": false,
     "title": ""
    }
   },
   "outputs": [],
   "source": [
    "final_df = spark.createDataFrame(final_df)"
   ]
  },
  {
   "cell_type": "code",
   "execution_count": 0,
   "metadata": {
    "application/vnd.databricks.v1+cell": {
     "cellMetadata": {
      "byteLimit": 2048000,
      "rowLimit": 10000
     },
     "inputWidgets": {},
     "nuid": "e3819f38-d59b-4f3a-851a-03b9b2bc8dd9",
     "showTitle": true,
     "title": "Conversion of DF to JSON"
    },
    "collapsed": false,
    "pycharm": {
     "name": "#%%\n"
    }
   },
   "outputs": [],
   "source": [
    "from pyspark.sql.functions import *\n",
    "import json\n",
    "json_final = final_df.toJSON().map(lambda str_json: json.loads(str_json)).collect()"
   ]
  },
  {
   "cell_type": "code",
   "execution_count": 0,
   "metadata": {
    "application/vnd.databricks.v1+cell": {
     "cellMetadata": {
      "byteLimit": 2048000,
      "rowLimit": 10000
     },
     "inputWidgets": {},
     "nuid": "0aaedfd2-0b5f-490a-86d1-bd2a204ee713",
     "showTitle": true,
     "title": "Error Callback Functions"
    },
    "collapsed": false,
    "pycharm": {
     "name": "#%%\n"
    }
   },
   "outputs": [],
   "source": [
    "def error_cb(err):\n",
    "    \"\"\" The error callback is used for generic client errors. These\n",
    "        errors are generally to be considered informational as the client will\n",
    "        automatically try to recover from all errors, and no extra action\n",
    "        is typically required by the application.\n",
    "        For this example however, we terminate the application if the client\n",
    "        is unable to connect to any broker (_ALL_BROKERS_DOWN) and on\n",
    "        authentication errors (_AUTHENTICATION). \"\"\"\n",
    "\n",
    "    print(\"Client error: {}\".format(err))\n",
    "    if err.code() == KafkaError._ALL_BROKERS_DOWN or \\\n",
    "       err.code() == KafkaError._AUTHENTICATION:\n",
    "        # Any exception raised from this callback will be re-raised from the\n",
    "        # triggering flush() or poll() call.\n",
    "        raise KafkaException(err)\n",
    "\n",
    "\n",
    "def acked(err, msg):\n",
    "    \"\"\" \n",
    "        Error callback is used for generic issues for producer errors. \n",
    "        \n",
    "        Parameters:\n",
    "            err (err): Error flag.\n",
    "            msg (str): Error message that was part of the callback.\n",
    "    \"\"\"\n",
    "    if err is not None:\n",
    "        print(\"Failed to deliver message: %s: %s\" % (str(msg), str(err)))\n",
    "    else:\n",
    "        print(\"Message produced: %s\" % (str(msg)))"
   ]
  },
  {
   "cell_type": "code",
   "execution_count": 0,
   "metadata": {
    "application/vnd.databricks.v1+cell": {
     "cellMetadata": {
      "byteLimit": 2048000,
      "rowLimit": 10000
     },
     "inputWidgets": {},
     "nuid": "4ed3815c-4582-4bc5-812c-71ebb334e28d",
     "showTitle": true,
     "title": "Admin Setup"
    }
   },
   "outputs": [],
   "source": [
    "import uuid\n",
    "import confluent_kafka as kafka\n",
    "import confluent_kafka.admin as kadmin\n",
    "\n",
    "KWARGS = {\n",
    "    'bootstrap.servers' : confluentBootstrapServers,\n",
    "    'sasl.username'     : confluentApiKey,\n",
    "    'sasl.password'     : confluentSecret,\n",
    "    'sasl.mechanism'    : 'PLAIN',\n",
    "    'security.protocol' : 'SASL_SSL',\n",
    "    'auto.offset.reset' : 'earliest',\n",
    "    'session.timeout.ms': 45000,\n",
    "    'group.id'          : str(uuid.uuid4())\n",
    "}\n",
    "\n",
    "# Create admin client, for adding topics\n",
    "admin_client = kadmin.AdminClient(KWARGS)\n",
    "\n",
    "# Create producer, for sending messages\n",
    "producer = kafka.Producer(KWARGS)"
   ]
  },
  {
   "cell_type": "code",
   "execution_count": 0,
   "metadata": {
    "application/vnd.databricks.v1+cell": {
     "cellMetadata": {
      "byteLimit": 2048000,
      "rowLimit": 10000
     },
     "inputWidgets": {},
     "nuid": "2c5ac2f6-d116-4e86-b04a-b49215ad508d",
     "showTitle": false,
     "title": ""
    }
   },
   "outputs": [
    {
     "output_type": "stream",
     "name": "stdout",
     "output_type": "stream",
     "text": [
      "Topic Deleted Successfully\n"
     ]
    }
   ],
   "source": [
    "TOPICS = [\"future_data\"]\n",
    "try:\n",
    "    admin_client.delete_topics(topics=TOPICS)\n",
    "    print(\"Topic Deleted Successfully\")\n",
    "    sleep(30)\n",
    "except:\n",
    "    print(\"Topic Doesn't Exist\")"
   ]
  },
  {
   "cell_type": "code",
   "execution_count": 0,
   "metadata": {
    "application/vnd.databricks.v1+cell": {
     "cellMetadata": {
      "byteLimit": 2048000,
      "rowLimit": 10000
     },
     "inputWidgets": {},
     "nuid": "435a0062-223f-45f2-9490-f64eb88783b3",
     "showTitle": true,
     "title": "Topic Setup"
    }
   },
   "outputs": [
    {
     "output_type": "stream",
     "name": "stdout",
     "output_type": "stream",
     "text": [
      "future_data: False\n"
     ]
    }
   ],
   "source": [
    "TOPICS = [\"future_data\"]\n",
    "\n",
    "kafka_topics = [kadmin.NewTopic(topic, 1) for topic in TOPICS] \n",
    "admin_client.create_topics(kafka_topics)\n",
    "\n",
    "created_topics = admin_client.list_topics().topics\n",
    "for t in TOPICS:\n",
    "    sleep(30)\n",
    "    print(f'{t}: {t in created_topics}')"
   ]
  },
  {
   "cell_type": "code",
   "execution_count": 0,
   "metadata": {
    "application/vnd.databricks.v1+cell": {
     "cellMetadata": {
      "byteLimit": 2048000,
      "rowLimit": 10000
     },
     "inputWidgets": {},
     "nuid": "66b20e1d-c630-4e50-a64f-9c380b566f58",
     "showTitle": false,
     "title": ""
    }
   },
   "outputs": [
    {
     "output_type": "stream",
     "name": "stdout",
     "output_type": "stream",
     "text": [
      "Out[56]: 272"
     ]
    }
   ],
   "source": [
    "len(json_final)"
   ]
  },
  {
   "cell_type": "code",
   "execution_count": 0,
   "metadata": {
    "application/vnd.databricks.v1+cell": {
     "cellMetadata": {
      "byteLimit": 2048000,
      "rowLimit": 10000
     },
     "inputWidgets": {},
     "nuid": "ea82c597-9686-43d0-8e78-b71d7c9593e4",
     "showTitle": true,
     "title": "Produce Data"
    }
   },
   "outputs": [],
   "source": [
    "for i in range(len(json_final)): \n",
    "    # print(json_final[i])\n",
    "    producer.produce(TOPICS[0],json.dumps(json_final[i]))\n",
    "    producer.flush()"
   ]
  },
  {
   "cell_type": "code",
   "execution_count": 0,
   "metadata": {
    "application/vnd.databricks.v1+cell": {
     "cellMetadata": {
      "byteLimit": 2048000,
      "rowLimit": 10000
     },
     "inputWidgets": {},
     "nuid": "caebfd3f-5117-45e5-8700-86dffd70519b",
     "showTitle": true,
     "title": "Kafka Consumer Setup"
    }
   },
   "outputs": [],
   "source": [
    "from datetime import datetime, timedelta\n",
    "\n",
    "# Create Kafka Consumer ====================================================\n",
    "consumer = kafka.Consumer(KWARGS)\n",
    "consumer.subscribe(TOPICS) \n",
    "\n",
    "\n",
    "# Consume messages =========================================================\n",
    "max_messages, timeout_in_sec = 10000, 10 # Optional exit conditions\n",
    "\n",
    "start_time = datetime.now()\n",
    "mesg = []\n",
    "\n",
    "while True:\n",
    "    try:\n",
    "        msg = consumer.poll(8.0) # .poll(poll_timeout_in_seconds)\n",
    "        if msg is None:\n",
    "            break\n",
    "            raise Exception('Message value is None')\n",
    "            \n",
    "        elif msg.error() is not None:\n",
    "            raise Exception(str(msg.error()))\n",
    "        else:\n",
    "            msg_val = json.loads('{}'.format(msg.value().decode('utf-8')))\n",
    "            mesg.append(msg_val)\n",
    "    except Exception as e:\n",
    "        cons_results['failures'].append((str(msg), e))\n",
    "\n",
    "consumer.close()"
   ]
  },
  {
   "cell_type": "code",
   "execution_count": 0,
   "metadata": {
    "application/vnd.databricks.v1+cell": {
     "cellMetadata": {
      "byteLimit": 2048000,
      "rowLimit": 10000
     },
     "inputWidgets": {},
     "nuid": "94c34f64-725b-45d7-9344-0d23da6b514b",
     "showTitle": false,
     "title": ""
    }
   },
   "outputs": [
    {
     "output_type": "stream",
     "name": "stdout",
     "output_type": "stream",
     "text": [
      "Out[59]: 272"
     ]
    }
   ],
   "source": [
    "len(mesg)"
   ]
  },
  {
   "cell_type": "code",
   "execution_count": 0,
   "metadata": {
    "application/vnd.databricks.v1+cell": {
     "cellMetadata": {
      "byteLimit": 2048000,
      "rowLimit": 10000
     },
     "inputWidgets": {},
     "nuid": "cc2e58fd-53e6-4a78-b9e8-dea988ac61f3",
     "showTitle": false,
     "title": ""
    }
   },
   "outputs": [],
   "source": [
    "df_c= pd.DataFrame(mesg)"
   ]
  },
  {
   "cell_type": "code",
   "execution_count": 0,
   "metadata": {
    "application/vnd.databricks.v1+cell": {
     "cellMetadata": {
      "byteLimit": 2048000,
      "rowLimit": 10000
     },
     "inputWidgets": {},
     "nuid": "bad03fea-b4ae-46a3-b8cf-154405ac98ed",
     "showTitle": false,
     "title": ""
    }
   },
   "outputs": [],
   "source": [
    "df_ny = df_c.query('State == \"NY\"')\n",
    "df_tx = df_c.query('State == \"TX\"')\n",
    "df_ca = df_c.query('State == \"CA\"')\n",
    "df_fl = df_c.query('State == \"FL\"')"
   ]
  },
  {
   "cell_type": "code",
   "execution_count": 0,
   "metadata": {
    "application/vnd.databricks.v1+cell": {
     "cellMetadata": {
      "byteLimit": 2048000,
      "rowLimit": 10000
     },
     "inputWidgets": {},
     "nuid": "aef0131e-3efb-46dd-8675-42a3de97107c",
     "showTitle": false,
     "title": ""
    }
   },
   "outputs": [],
   "source": [
    "df_ny = spark.createDataFrame(df_ny)\n",
    "df_tx = spark.createDataFrame(df_tx)\n",
    "df_ca = spark.createDataFrame(df_ca)\n",
    "df_fl = spark.createDataFrame(df_fl)"
   ]
  },
  {
   "cell_type": "code",
   "execution_count": 0,
   "metadata": {
    "application/vnd.databricks.v1+cell": {
     "cellMetadata": {
      "byteLimit": 2048000,
      "rowLimit": 10000
     },
     "inputWidgets": {},
     "nuid": "72195826-bd92-446e-94f7-f0cc5b206fef",
     "showTitle": false,
     "title": ""
    }
   },
   "outputs": [],
   "source": [
    "%run \"/Shared/WeatherWatts/config/SQL Keys\""
   ]
  },
  {
   "cell_type": "code",
   "execution_count": 0,
   "metadata": {
    "application/vnd.databricks.v1+cell": {
     "cellMetadata": {
      "byteLimit": 2048000,
      "rowLimit": 10000
     },
     "inputWidgets": {},
     "nuid": "4bd01825-d573-4d74-b5eb-bdcb0a956666",
     "showTitle": false,
     "title": ""
    }
   },
   "outputs": [],
   "source": [
    "df_ny.write.format(\"jdbc\").option(\n",
    "    \"url\", f\"jdbc:sqlserver://{server}:1433;databaseName={database};\"\n",
    "    ) \\\n",
    "    .mode(\"append\") \\\n",
    "    .option(\"dbtable\", tableNY) \\\n",
    "    .option(\"user\", user) \\\n",
    "    .option(\"password\", password) \\\n",
    "    .option(\"driver\", \"com.microsoft.sqlserver.jdbc.SQLServerDriver\") \\\n",
    "    .save()"
   ]
  },
  {
   "cell_type": "code",
   "execution_count": 0,
   "metadata": {
    "application/vnd.databricks.v1+cell": {
     "cellMetadata": {
      "byteLimit": 2048000,
      "rowLimit": 10000
     },
     "inputWidgets": {},
     "nuid": "c151d625-4d71-42a0-a1de-a5182421cfc9",
     "showTitle": false,
     "title": ""
    }
   },
   "outputs": [],
   "source": [
    "df_ca.write.format(\"jdbc\").option(\n",
    "    \"url\", f\"jdbc:sqlserver://{server}:1433;databaseName={database};\"\n",
    "    ) \\\n",
    "    .mode(\"append\") \\\n",
    "    .option(\"dbtable\", tableCA) \\\n",
    "    .option(\"user\", user) \\\n",
    "    .option(\"password\", password) \\\n",
    "    .option(\"driver\", \"com.microsoft.sqlserver.jdbc.SQLServerDriver\") \\\n",
    "    .save()"
   ]
  },
  {
   "cell_type": "code",
   "execution_count": 0,
   "metadata": {
    "application/vnd.databricks.v1+cell": {
     "cellMetadata": {
      "byteLimit": 2048000,
      "rowLimit": 10000
     },
     "inputWidgets": {},
     "nuid": "e39b7e99-4731-4e6a-9a65-9952d8245373",
     "showTitle": false,
     "title": ""
    }
   },
   "outputs": [],
   "source": [
    "df_tx.write.format(\"jdbc\").option(\n",
    "    \"url\", f\"jdbc:sqlserver://{server}:1433;databaseName={database};\"\n",
    "    ) \\\n",
    "    .mode(\"append\") \\\n",
    "    .option(\"dbtable\", tableTX) \\\n",
    "    .option(\"user\", user) \\\n",
    "    .option(\"password\", password) \\\n",
    "    .option(\"driver\", \"com.microsoft.sqlserver.jdbc.SQLServerDriver\") \\\n",
    "    .save()"
   ]
  },
  {
   "cell_type": "code",
   "execution_count": 0,
   "metadata": {
    "application/vnd.databricks.v1+cell": {
     "cellMetadata": {
      "byteLimit": 2048000,
      "rowLimit": 10000
     },
     "inputWidgets": {},
     "nuid": "99ed919a-c2f0-4828-9199-9ffeb123ec82",
     "showTitle": false,
     "title": ""
    }
   },
   "outputs": [],
   "source": [
    "df_fl.write.format(\"jdbc\").option(\n",
    "    \"url\", f\"jdbc:sqlserver://{server}:1433;databaseName={database};\"\n",
    "    ) \\\n",
    "    .mode(\"append\") \\\n",
    "    .option(\"dbtable\", tableFL) \\\n",
    "    .option(\"user\", user) \\\n",
    "    .option(\"password\", password) \\\n",
    "    .option(\"driver\", \"com.microsoft.sqlserver.jdbc.SQLServerDriver\") \\\n",
    "    .save()"
   ]
  },
  {
   "cell_type": "code",
   "execution_count": 0,
   "metadata": {
    "application/vnd.databricks.v1+cell": {
     "cellMetadata": {},
     "inputWidgets": {},
     "nuid": "eca7cfd5-9840-482c-83f0-5f90ec063b58",
     "showTitle": false,
     "title": ""
    }
   },
   "outputs": [],
   "source": []
  }
 ],
 "metadata": {
  "application/vnd.databricks.v1+notebook": {
   "dashboards": [],
   "language": "python",
   "notebookMetadata": {
    "pythonIndentUnit": 4
   },
   "notebookName": "Kafka Setup and SQL",
   "widgets": {}
  },
  "kernelspec": {
   "display_name": "Python 3",
   "language": "python",
   "name": "python3"
  },
  "language_info": {
   "codemirror_mode": {
    "name": "ipython",
    "version": 2
   },
   "file_extension": ".py",
   "mimetype": "text/x-python",
   "name": "python",
   "nbconvert_exporter": "python",
   "pygments_lexer": "ipython2",
   "version": "2.7.6"
  }
 },
 "nbformat": 4,
 "nbformat_minor": 0
}
